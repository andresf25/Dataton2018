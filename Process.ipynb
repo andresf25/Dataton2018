{
 "cells": [
  {
   "cell_type": "markdown",
   "metadata": {},
   "source": [
    "Importar librerias necesarias"
   ]
  },
  {
   "cell_type": "code",
   "execution_count": 1,
   "metadata": {},
   "outputs": [
    {
     "name": "stderr",
     "output_type": "stream",
     "text": [
      "C:\\ProgramData\\Anaconda3\\lib\\site-packages\\gensim\\utils.py:1197: UserWarning: detected Windows; aliasing chunkize to chunkize_serial\n",
      "  warnings.warn(\"detected Windows; aliasing chunkize to chunkize_serial\")\n"
     ]
    },
    {
     "name": "stdout",
     "output_type": "stream",
     "text": [
      "[nltk_data] Downloading package stopwords to\n",
      "[nltk_data]     C:\\Users\\Administrator\\AppData\\Roaming\\nltk_data...\n",
      "[nltk_data]   Package stopwords is already up-to-date!\n"
     ]
    },
    {
     "data": {
      "text/plain": [
       "True"
      ]
     },
     "execution_count": 1,
     "metadata": {},
     "output_type": "execute_result"
    }
   ],
   "source": [
    "import pandas as pd\n",
    "import nltk\n",
    "import unicodedata\n",
    "import re\n",
    "import numpy as np\n",
    "import gensim \n",
    "\n",
    "from nltk.corpus import stopwords\n",
    "from gensim.models import Word2Vec\n",
    "from nltk.cluster import KMeansClusterer \n",
    "from sklearn import cluster\n",
    "from sklearn import metrics\n",
    "\n",
    "import matplotlib.pyplot as plt\n",
    "\n",
    "from nltk import word_tokenize\n",
    "from nltk.stem import SnowballStemmer\n",
    "\n",
    "nltk.download('stopwords')"
   ]
  },
  {
   "cell_type": "markdown",
   "metadata": {},
   "source": [
    "Lectura del archivo de transacciones en formato csv"
   ]
  },
  {
   "cell_type": "code",
   "execution_count": 2,
   "metadata": {},
   "outputs": [],
   "source": [
    "nombres_columnas = [\"id_trn_ach\",\"id_cliente\",\"fecha\",\"hora\",\"valor_trx\",\"ref1\",\"ref2\",\"ref3\",\"sector\",\"subsector\",\"descripcion\",\"11\",\"12\",\"13\"]\n",
    "\n",
    "muestra = pd.read_csv('dt_trxpse_personas_2016_2018_muestra_adjt.csv', sep = ',', header = None, low_memory = False, names=nombres_columnas)"
   ]
  },
  {
   "cell_type": "markdown",
   "metadata": {},
   "source": [
    "## Eliminar columnas\n",
    "Las ultimas columnas creadas por el separador de coma ya que la ultima columna contenia dicho separador\n",
    "la columna de referencia 3"
   ]
  },
  {
   "cell_type": "code",
   "execution_count": 3,
   "metadata": {},
   "outputs": [],
   "source": [
    "muestra.drop('11', axis=1,inplace=True)\n",
    "muestra.drop('12', axis=1,inplace=True)\n",
    "muestra.drop('13', axis=1,inplace=True)\n",
    "muestra.drop('ref2', axis=1,inplace=True)\n",
    "muestra.drop('ref3', axis=1,inplace=True)"
   ]
  },
  {
   "cell_type": "code",
   "execution_count": 18,
   "metadata": {
    "scrolled": true
   },
   "outputs": [
    {
     "data": {
      "text/html": [
       "<div>\n",
       "<style scoped>\n",
       "    .dataframe tbody tr th:only-of-type {\n",
       "        vertical-align: middle;\n",
       "    }\n",
       "\n",
       "    .dataframe tbody tr th {\n",
       "        vertical-align: top;\n",
       "    }\n",
       "\n",
       "    .dataframe thead th {\n",
       "        text-align: right;\n",
       "    }\n",
       "</style>\n",
       "<table border=\"1\" class=\"dataframe\">\n",
       "  <thead>\n",
       "    <tr style=\"text-align: right;\">\n",
       "      <th></th>\n",
       "      <th>id_trn_ach</th>\n",
       "      <th>id_cliente</th>\n",
       "      <th>fecha</th>\n",
       "      <th>hora</th>\n",
       "      <th>valor_trx</th>\n",
       "      <th>ref1</th>\n",
       "      <th>sector</th>\n",
       "      <th>subsector</th>\n",
       "      <th>descripcion</th>\n",
       "    </tr>\n",
       "  </thead>\n",
       "  <tbody>\n",
       "    <tr>\n",
       "      <th>0</th>\n",
       "      <td>230435642</td>\n",
       "      <td>3</td>\n",
       "      <td>20161207</td>\n",
       "      <td>113451</td>\n",
       "      <td>2122392.51</td>\n",
       "      <td>CC</td>\n",
       "      <td>NaN</td>\n",
       "      <td>NaN</td>\n",
       "      <td>NaN</td>\n",
       "    </tr>\n",
       "    <tr>\n",
       "      <th>1</th>\n",
       "      <td>222356110</td>\n",
       "      <td>10</td>\n",
       "      <td>20161016</td>\n",
       "      <td>3424</td>\n",
       "      <td>148438.37</td>\n",
       "      <td>Referencia:  Contrato:  Valor:</td>\n",
       "      <td>NaN</td>\n",
       "      <td>NaN</td>\n",
       "      <td>NaN</td>\n",
       "    </tr>\n",
       "    <tr>\n",
       "      <th>2</th>\n",
       "      <td>309137749</td>\n",
       "      <td>10</td>\n",
       "      <td>20180120</td>\n",
       "      <td>195042</td>\n",
       "      <td>94025.19</td>\n",
       "      <td>CC</td>\n",
       "      <td>NaN</td>\n",
       "      <td>NaN</td>\n",
       "      <td>NaN</td>\n",
       "    </tr>\n",
       "    <tr>\n",
       "      <th>3</th>\n",
       "      <td>324614737</td>\n",
       "      <td>10</td>\n",
       "      <td>20180326</td>\n",
       "      <td>192146</td>\n",
       "      <td>94430.07</td>\n",
       "      <td>CC</td>\n",
       "      <td>NaN</td>\n",
       "      <td>NaN</td>\n",
       "      <td>NaN</td>\n",
       "    </tr>\n",
       "    <tr>\n",
       "      <th>4</th>\n",
       "      <td>235344690</td>\n",
       "      <td>18</td>\n",
       "      <td>20170106</td>\n",
       "      <td>201317</td>\n",
       "      <td>670645.57</td>\n",
       "      <td>MEDICINA PREPAGADA COLSANITAS</td>\n",
       "      <td>NaN</td>\n",
       "      <td>NaN</td>\n",
       "      <td>NaN</td>\n",
       "    </tr>\n",
       "  </tbody>\n",
       "</table>\n",
       "</div>"
      ],
      "text/plain": [
       "   id_trn_ach  id_cliente     fecha    hora   valor_trx  \\\n",
       "0   230435642           3  20161207  113451  2122392.51   \n",
       "1   222356110          10  20161016    3424   148438.37   \n",
       "2   309137749          10  20180120  195042    94025.19   \n",
       "3   324614737          10  20180326  192146    94430.07   \n",
       "4   235344690          18  20170106  201317   670645.57   \n",
       "\n",
       "                             ref1 sector subsector descripcion  \n",
       "0                              CC    NaN       NaN         NaN  \n",
       "1  Referencia:  Contrato:  Valor:    NaN       NaN         NaN  \n",
       "2                              CC    NaN       NaN         NaN  \n",
       "3                              CC    NaN       NaN         NaN  \n",
       "4   MEDICINA PREPAGADA COLSANITAS    NaN       NaN         NaN  "
      ]
     },
     "execution_count": 18,
     "metadata": {},
     "output_type": "execute_result"
    }
   ],
   "source": [
    "muestra.head()"
   ]
  },
  {
   "cell_type": "code",
   "execution_count": 6,
   "metadata": {},
   "outputs": [
    {
     "name": "stdout",
     "output_type": "stream",
     "text": [
      "<class 'pandas.core.frame.DataFrame'>\n",
      "RangeIndex: 11816281 entries, 0 to 11816280\n",
      "Data columns (total 9 columns):\n",
      "id_trn_ach     int64\n",
      "id_cliente     int64\n",
      "fecha          int64\n",
      "hora           int64\n",
      "valor_trx      float64\n",
      "ref1           object\n",
      "sector         object\n",
      "subsector      object\n",
      "descripcion    object\n",
      "dtypes: float64(1), int64(4), object(4)\n",
      "memory usage: 811.4+ MB\n"
     ]
    }
   ],
   "source": [
    "muestra.info()"
   ]
  },
  {
   "cell_type": "markdown",
   "metadata": {},
   "source": [
    "# Filtrar outliers\n",
    "\n",
    "Se realiza este filtro con base a la desviación 3 veces hacia el limite superior, y en la información de la pagina de PSE la cual define transacciones validas de monto minimo: 1600 $, con este filtro queda aproximadamente el 98 % de la información"
   ]
  },
  {
   "cell_type": "code",
   "execution_count": 4,
   "metadata": {},
   "outputs": [],
   "source": [
    "muestra = muestra[ (muestra['valor_trx'] > 1600 ) & (muestra['valor_trx'] < 3299021 )]"
   ]
  },
  {
   "cell_type": "code",
   "execution_count": 20,
   "metadata": {},
   "outputs": [
    {
     "data": {
      "text/plain": [
       "(11634178, 9)"
      ]
     },
     "execution_count": 20,
     "metadata": {},
     "output_type": "execute_result"
    }
   ],
   "source": [
    "muestra.shape"
   ]
  },
  {
   "cell_type": "markdown",
   "metadata": {},
   "source": [
    "# Transformación de datos"
   ]
  },
  {
   "cell_type": "markdown",
   "metadata": {},
   "source": [
    "Se converten columnas relacionadas con la referencia y el sector a tipo string para comenzar con las transformaciones"
   ]
  },
  {
   "cell_type": "code",
   "execution_count": 5,
   "metadata": {},
   "outputs": [],
   "source": [
    "muestra['ref1'].fillna('sininfo', inplace = True)\n",
    "muestra['sector'].fillna('sininfo', inplace = True)\n",
    "muestra['subsector'].fillna('sininfo', inplace = True)\n",
    "muestra['descripcion'].fillna('sininfo', inplace = True)"
   ]
  },
  {
   "cell_type": "code",
   "execution_count": 6,
   "metadata": {},
   "outputs": [],
   "source": [
    "muestra['ref1'] = muestra['ref1'].astype('str')\n",
    "\n",
    "muestra['sector'] = muestra['sector'].astype('str')\n",
    "muestra['subsector'] = muestra['subsector'].astype('str')\n",
    "muestra['descripcion'] = muestra['descripcion'].astype('str')"
   ]
  },
  {
   "cell_type": "markdown",
   "metadata": {},
   "source": [
    "Convertir caracteres '+' y '_' en espacios"
   ]
  },
  {
   "cell_type": "code",
   "execution_count": 7,
   "metadata": {},
   "outputs": [],
   "source": [
    "muestra['ref1'] = muestra['ref1'].str.replace('+',' ').str.replace('_',' ')\n",
    "muestra['descripcion'] = muestra['descripcion'].str.replace('+',' ').str.replace('_',' ')"
   ]
  },
  {
   "cell_type": "markdown",
   "metadata": {},
   "source": [
    "Quitar acentuaciones y pasar a ASCII - UTF8"
   ]
  },
  {
   "cell_type": "code",
   "execution_count": 9,
   "metadata": {},
   "outputs": [],
   "source": [
    "def remove_accents(input_str):\n",
    "    nfkd_form = unicodedata.normalize('NFKD', input_str)\n",
    "    only_ascii = nfkd_form.encode('ASCII', 'ignore')\n",
    "    return only_ascii.decode('utf-8')\n",
    "\n",
    "muestra['ref1'] = muestra['ref1'].apply(remove_accents)\n",
    "muestra['descripcion'] = muestra['descripcion'].apply(remove_accents)\n",
    "muestra['sector'] = muestra['sector'].apply(remove_accents)\n",
    "muestra['subsector'] = muestra['subsector'].apply(remove_accents)"
   ]
  },
  {
   "cell_type": "code",
   "execution_count": 15,
   "metadata": {},
   "outputs": [
    {
     "data": {
      "text/html": [
       "<div>\n",
       "<style scoped>\n",
       "    .dataframe tbody tr th:only-of-type {\n",
       "        vertical-align: middle;\n",
       "    }\n",
       "\n",
       "    .dataframe tbody tr th {\n",
       "        vertical-align: top;\n",
       "    }\n",
       "\n",
       "    .dataframe thead th {\n",
       "        text-align: right;\n",
       "    }\n",
       "</style>\n",
       "<table border=\"1\" class=\"dataframe\">\n",
       "  <thead>\n",
       "    <tr style=\"text-align: right;\">\n",
       "      <th></th>\n",
       "      <th>id_trn_ach</th>\n",
       "      <th>id_cliente</th>\n",
       "      <th>fecha</th>\n",
       "      <th>hora</th>\n",
       "      <th>valor_trx</th>\n",
       "      <th>ref1</th>\n",
       "      <th>sector</th>\n",
       "      <th>subsector</th>\n",
       "      <th>descripcion</th>\n",
       "    </tr>\n",
       "  </thead>\n",
       "  <tbody>\n",
       "    <tr>\n",
       "      <th>0</th>\n",
       "      <td>230435642</td>\n",
       "      <td>3</td>\n",
       "      <td>20161207</td>\n",
       "      <td>113451</td>\n",
       "      <td>2122392.51</td>\n",
       "      <td>CC</td>\n",
       "      <td>sininfo</td>\n",
       "      <td>sininfo</td>\n",
       "      <td>sininfo</td>\n",
       "    </tr>\n",
       "    <tr>\n",
       "      <th>1</th>\n",
       "      <td>222356110</td>\n",
       "      <td>10</td>\n",
       "      <td>20161016</td>\n",
       "      <td>3424</td>\n",
       "      <td>148438.37</td>\n",
       "      <td>Referencia:  Contrato:  Valor:</td>\n",
       "      <td>sininfo</td>\n",
       "      <td>sininfo</td>\n",
       "      <td>sininfo</td>\n",
       "    </tr>\n",
       "    <tr>\n",
       "      <th>2</th>\n",
       "      <td>309137749</td>\n",
       "      <td>10</td>\n",
       "      <td>20180120</td>\n",
       "      <td>195042</td>\n",
       "      <td>94025.19</td>\n",
       "      <td>CC</td>\n",
       "      <td>sininfo</td>\n",
       "      <td>sininfo</td>\n",
       "      <td>sininfo</td>\n",
       "    </tr>\n",
       "    <tr>\n",
       "      <th>3</th>\n",
       "      <td>324614737</td>\n",
       "      <td>10</td>\n",
       "      <td>20180326</td>\n",
       "      <td>192146</td>\n",
       "      <td>94430.07</td>\n",
       "      <td>CC</td>\n",
       "      <td>sininfo</td>\n",
       "      <td>sininfo</td>\n",
       "      <td>sininfo</td>\n",
       "    </tr>\n",
       "    <tr>\n",
       "      <th>4</th>\n",
       "      <td>235344690</td>\n",
       "      <td>18</td>\n",
       "      <td>20170106</td>\n",
       "      <td>201317</td>\n",
       "      <td>670645.57</td>\n",
       "      <td>MEDICINA PREPAGADA COLSANITAS</td>\n",
       "      <td>sininfo</td>\n",
       "      <td>sininfo</td>\n",
       "      <td>sininfo</td>\n",
       "    </tr>\n",
       "  </tbody>\n",
       "</table>\n",
       "</div>"
      ],
      "text/plain": [
       "   id_trn_ach  id_cliente     fecha    hora   valor_trx  \\\n",
       "0   230435642           3  20161207  113451  2122392.51   \n",
       "1   222356110          10  20161016    3424   148438.37   \n",
       "2   309137749          10  20180120  195042    94025.19   \n",
       "3   324614737          10  20180326  192146    94430.07   \n",
       "4   235344690          18  20170106  201317   670645.57   \n",
       "\n",
       "                             ref1   sector subsector descripcion  \n",
       "0                              CC  sininfo   sininfo     sininfo  \n",
       "1  Referencia:  Contrato:  Valor:  sininfo   sininfo     sininfo  \n",
       "2                              CC  sininfo   sininfo     sininfo  \n",
       "3                              CC  sininfo   sininfo     sininfo  \n",
       "4   MEDICINA PREPAGADA COLSANITAS  sininfo   sininfo     sininfo  "
      ]
     },
     "execution_count": 15,
     "metadata": {},
     "output_type": "execute_result"
    }
   ],
   "source": [
    "muestra.head()"
   ]
  },
  {
   "cell_type": "markdown",
   "metadata": {},
   "source": [
    "Dejar unicamente las cadenas de caracteres entre a-z, A-Z"
   ]
  },
  {
   "cell_type": "code",
   "execution_count": 10,
   "metadata": {},
   "outputs": [],
   "source": [
    "muestra['ref1'] = muestra['ref1'].str.replace(r\"[^a-zA-Z ]+\", \"\").str.strip()\n",
    "muestra['ref1'] = muestra['ref1'].str.replace(r\"\\W*\\b\\w{1,3}\\b\", \"\").str.strip()\n",
    "muestra['descripcion'] = muestra['descripcion'].str.replace(r\"[^a-zA-Z ]+\", \"\").str.strip()"
   ]
  },
  {
   "cell_type": "markdown",
   "metadata": {},
   "source": [
    "Pasar a minusculas"
   ]
  },
  {
   "cell_type": "code",
   "execution_count": 11,
   "metadata": {},
   "outputs": [],
   "source": [
    "muestra['ref1'] = muestra['ref1'].str.lower()\n",
    "muestra['sector'] = muestra['sector'].str.lower()\n",
    "muestra['subsector'] = muestra['subsector'].str.lower()\n",
    "muestra['descripcion'] = muestra['descripcion'].str.lower()"
   ]
  },
  {
   "cell_type": "markdown",
   "metadata": {},
   "source": [
    "Eliminar stopwords"
   ]
  },
  {
   "cell_type": "code",
   "execution_count": 13,
   "metadata": {
    "scrolled": true
   },
   "outputs": [],
   "source": [
    "stop_aux = set(stopwords.words('spanish'))\n",
    "\n",
    "stopwords_self=[]\n",
    "for line in open('stop_words_self_2.csv'):\n",
    "    stopwords_self += (line,)\n",
    "\n",
    "d=[]\n",
    "for  i in stopwords_self:\n",
    "    doc=i.replace('\\n',' ').strip()\n",
    "    d.append(doc)\n",
    "    \n",
    "stop= stop_aux.union(d)"
   ]
  },
  {
   "cell_type": "code",
   "execution_count": 16,
   "metadata": {},
   "outputs": [],
   "source": [
    "muestra['ref1'] = muestra['ref1'].apply(lambda x: \" \".join(x for x in x.split() if x not in stop))\n",
    "muestra['sector'] = muestra['sector'].apply(lambda x: \" \".join(x for x in x.split() if x not in stop))\n",
    "muestra['descripcion'] = muestra['descripcion'].apply(lambda x: \" \".join(x for x in x.split() if x not in stop))\n",
    "muestra['subsector'] = muestra['subsector'].apply(lambda x: \" \".join(x for x in x.split() if x not in stop))"
   ]
  },
  {
   "cell_type": "code",
   "execution_count": 15,
   "metadata": {},
   "outputs": [
    {
     "data": {
      "text/html": [
       "<div>\n",
       "<style scoped>\n",
       "    .dataframe tbody tr th:only-of-type {\n",
       "        vertical-align: middle;\n",
       "    }\n",
       "\n",
       "    .dataframe tbody tr th {\n",
       "        vertical-align: top;\n",
       "    }\n",
       "\n",
       "    .dataframe thead th {\n",
       "        text-align: right;\n",
       "    }\n",
       "</style>\n",
       "<table border=\"1\" class=\"dataframe\">\n",
       "  <thead>\n",
       "    <tr style=\"text-align: right;\">\n",
       "      <th></th>\n",
       "      <th>id_trn_ach</th>\n",
       "      <th>id_cliente</th>\n",
       "      <th>fecha</th>\n",
       "      <th>hora</th>\n",
       "      <th>valor_trx</th>\n",
       "      <th>ref1</th>\n",
       "      <th>sector</th>\n",
       "      <th>subsector</th>\n",
       "      <th>descripcion</th>\n",
       "    </tr>\n",
       "  </thead>\n",
       "  <tbody>\n",
       "    <tr>\n",
       "      <th>0</th>\n",
       "      <td>230435642</td>\n",
       "      <td>3</td>\n",
       "      <td>20161207</td>\n",
       "      <td>113451</td>\n",
       "      <td>2122392.51</td>\n",
       "      <td></td>\n",
       "      <td>sininfo</td>\n",
       "      <td>sininfo</td>\n",
       "      <td>sininfo</td>\n",
       "    </tr>\n",
       "    <tr>\n",
       "      <th>1</th>\n",
       "      <td>222356110</td>\n",
       "      <td>10</td>\n",
       "      <td>20161016</td>\n",
       "      <td>3424</td>\n",
       "      <td>148438.37</td>\n",
       "      <td>referencia contrato valor</td>\n",
       "      <td>sininfo</td>\n",
       "      <td>sininfo</td>\n",
       "      <td>sininfo</td>\n",
       "    </tr>\n",
       "    <tr>\n",
       "      <th>2</th>\n",
       "      <td>309137749</td>\n",
       "      <td>10</td>\n",
       "      <td>20180120</td>\n",
       "      <td>195042</td>\n",
       "      <td>94025.19</td>\n",
       "      <td></td>\n",
       "      <td>sininfo</td>\n",
       "      <td>sininfo</td>\n",
       "      <td>sininfo</td>\n",
       "    </tr>\n",
       "    <tr>\n",
       "      <th>3</th>\n",
       "      <td>324614737</td>\n",
       "      <td>10</td>\n",
       "      <td>20180326</td>\n",
       "      <td>192146</td>\n",
       "      <td>94430.07</td>\n",
       "      <td></td>\n",
       "      <td>sininfo</td>\n",
       "      <td>sininfo</td>\n",
       "      <td>sininfo</td>\n",
       "    </tr>\n",
       "    <tr>\n",
       "      <th>4</th>\n",
       "      <td>235344690</td>\n",
       "      <td>18</td>\n",
       "      <td>20170106</td>\n",
       "      <td>201317</td>\n",
       "      <td>670645.57</td>\n",
       "      <td>medicina prepagada colsanitas</td>\n",
       "      <td>sininfo</td>\n",
       "      <td>sininfo</td>\n",
       "      <td>sininfo</td>\n",
       "    </tr>\n",
       "  </tbody>\n",
       "</table>\n",
       "</div>"
      ],
      "text/plain": [
       "   id_trn_ach  id_cliente     fecha    hora   valor_trx  \\\n",
       "0   230435642           3  20161207  113451  2122392.51   \n",
       "1   222356110          10  20161016    3424   148438.37   \n",
       "2   309137749          10  20180120  195042    94025.19   \n",
       "3   324614737          10  20180326  192146    94430.07   \n",
       "4   235344690          18  20170106  201317   670645.57   \n",
       "\n",
       "                            ref1   sector subsector descripcion  \n",
       "0                                 sininfo   sininfo     sininfo  \n",
       "1      referencia contrato valor  sininfo   sininfo     sininfo  \n",
       "2                                 sininfo   sininfo     sininfo  \n",
       "3                                 sininfo   sininfo     sininfo  \n",
       "4  medicina prepagada colsanitas  sininfo   sininfo     sininfo  "
      ]
     },
     "execution_count": 15,
     "metadata": {},
     "output_type": "execute_result"
    }
   ],
   "source": [
    "muestra.head()"
   ]
  },
  {
   "cell_type": "markdown",
   "metadata": {},
   "source": [
    "Se eliminan todos los registros que no tienen descripcion valida en referencia"
   ]
  },
  {
   "cell_type": "code",
   "execution_count": 17,
   "metadata": {
    "scrolled": true
   },
   "outputs": [
    {
     "data": {
      "text/plain": [
       "(9446146, 9)"
      ]
     },
     "execution_count": 17,
     "metadata": {},
     "output_type": "execute_result"
    }
   ],
   "source": [
    "muestra = muestra[muestra['ref1'].str.len() > 0]\n",
    "muestra.shape\n",
    "#muestra.head()"
   ]
  },
  {
   "cell_type": "markdown",
   "metadata": {},
   "source": [
    "Se genera set de datos que no contiene informacion de sector, subsector y descripcion para realizar prediccion de clasificacion"
   ]
  },
  {
   "cell_type": "code",
   "execution_count": 18,
   "metadata": {},
   "outputs": [],
   "source": [
    "muestra_target = muestra[muestra['sector'] == 'sininfo']\n",
    "muestra_target.to_csv('muestra_target.csv', sep='|', encoding='utf-8')"
   ]
  },
  {
   "cell_type": "markdown",
   "metadata": {},
   "source": [
    "Se lee un archivo generado por el equipo mediante el cual se dieron unas etiquetas o clasificaciones a algunos de los sectores y subsectores"
   ]
  },
  {
   "cell_type": "code",
   "execution_count": 20,
   "metadata": {},
   "outputs": [],
   "source": [
    "nombres_columnas_label = [\"sector\",\"subsector\",\"descripcion\",\"categoria_pfm\"]\n",
    "etiqueta = pd.read_csv('Etiqueta.csv', sep = ';', low_memory = False)"
   ]
  },
  {
   "cell_type": "markdown",
   "metadata": {},
   "source": [
    "Se concatenan los registros de transacciones con sector, subsector y descripcion con el archivo de labels para separar aquellos que no tienen un label target y generarlo por medio de clusterizacion"
   ]
  },
  {
   "cell_type": "code",
   "execution_count": 21,
   "metadata": {},
   "outputs": [],
   "source": [
    "muestra_sector = muestra[muestra['sector'] != 'sininfo']"
   ]
  },
  {
   "cell_type": "code",
   "execution_count": 26,
   "metadata": {},
   "outputs": [
    {
     "data": {
      "text/plain": [
       "(2969291, 10)"
      ]
     },
     "execution_count": 26,
     "metadata": {},
     "output_type": "execute_result"
    }
   ],
   "source": [
    "muestra_etiqueta = pd.merge(muestra_sector, etiqueta, how='left', on=['sector', 'subsector', 'descripcion'])\n",
    "muestra_etiqueta.head()\n",
    "muestra_etiqueta.shape"
   ]
  },
  {
   "cell_type": "markdown",
   "metadata": {},
   "source": [
    "Generar set de datos con sector y categoria para el clasificador"
   ]
  },
  {
   "cell_type": "code",
   "execution_count": 27,
   "metadata": {},
   "outputs": [
    {
     "data": {
      "text/plain": [
       "(2081259, 10)"
      ]
     },
     "execution_count": 27,
     "metadata": {},
     "output_type": "execute_result"
    }
   ],
   "source": [
    "muestra_clasificador = muestra_etiqueta[muestra_etiqueta['categoria_pfm'].notnull()]\n",
    "muestra_clasificador.shape"
   ]
  },
  {
   "cell_type": "code",
   "execution_count": 214,
   "metadata": {},
   "outputs": [
    {
     "data": {
      "text/html": [
       "<div>\n",
       "<style scoped>\n",
       "    .dataframe tbody tr th:only-of-type {\n",
       "        vertical-align: middle;\n",
       "    }\n",
       "\n",
       "    .dataframe tbody tr th {\n",
       "        vertical-align: top;\n",
       "    }\n",
       "\n",
       "    .dataframe thead th {\n",
       "        text-align: right;\n",
       "    }\n",
       "</style>\n",
       "<table border=\"1\" class=\"dataframe\">\n",
       "  <thead>\n",
       "    <tr style=\"text-align: right;\">\n",
       "      <th></th>\n",
       "      <th>id_trn_ach</th>\n",
       "      <th>id_cliente</th>\n",
       "      <th>fecha</th>\n",
       "      <th>hora</th>\n",
       "      <th>valor_trx</th>\n",
       "      <th>ref1</th>\n",
       "      <th>sector</th>\n",
       "      <th>subsector</th>\n",
       "      <th>descripcion</th>\n",
       "      <th>categoria_pfm</th>\n",
       "    </tr>\n",
       "  </thead>\n",
       "  <tbody>\n",
       "    <tr>\n",
       "      <th>11</th>\n",
       "      <td>319249942</td>\n",
       "      <td>45</td>\n",
       "      <td>20180305</td>\n",
       "      <td>111143</td>\n",
       "      <td>49520.98</td>\n",
       "      <td>presentacion impuest predial unific</td>\n",
       "      <td>gobierno</td>\n",
       "      <td>municipios</td>\n",
       "      <td>actividades ejecutivas administracion publica ...</td>\n",
       "      <td>pago de deudas</td>\n",
       "    </tr>\n",
       "    <tr>\n",
       "      <th>15</th>\n",
       "      <td>346095462</td>\n",
       "      <td>47</td>\n",
       "      <td>20180619</td>\n",
       "      <td>153159</td>\n",
       "      <td>125779.58</td>\n",
       "      <td>sald</td>\n",
       "      <td>medios comunicacion</td>\n",
       "      <td>telefonia fija</td>\n",
       "      <td>servicios telefonia fija</td>\n",
       "      <td>tecnologia y comunicaciones</td>\n",
       "    </tr>\n",
       "    <tr>\n",
       "      <th>16</th>\n",
       "      <td>228320905</td>\n",
       "      <td>49</td>\n",
       "      <td>20161125</td>\n",
       "      <td>130737</td>\n",
       "      <td>75313.50</td>\n",
       "      <td>referent express</td>\n",
       "      <td>medios comunicacion</td>\n",
       "      <td>valor agregado</td>\n",
       "      <td>actividades telecomunicaciones inalambricas</td>\n",
       "      <td>tecnologia y comunicaciones</td>\n",
       "    </tr>\n",
       "    <tr>\n",
       "      <th>17</th>\n",
       "      <td>249117129</td>\n",
       "      <td>49</td>\n",
       "      <td>20170327</td>\n",
       "      <td>83646</td>\n",
       "      <td>82913.43</td>\n",
       "      <td>referent express</td>\n",
       "      <td>medios comunicacion</td>\n",
       "      <td>valor agregado</td>\n",
       "      <td>actividades telecomunicaciones inalambricas</td>\n",
       "      <td>tecnologia y comunicaciones</td>\n",
       "    </tr>\n",
       "    <tr>\n",
       "      <th>18</th>\n",
       "      <td>278487871</td>\n",
       "      <td>49</td>\n",
       "      <td>20170829</td>\n",
       "      <td>102756</td>\n",
       "      <td>67414.37</td>\n",
       "      <td>referent express</td>\n",
       "      <td>medios comunicacion</td>\n",
       "      <td>valor agregado</td>\n",
       "      <td>actividades telecomunicaciones inalambricas</td>\n",
       "      <td>tecnologia y comunicaciones</td>\n",
       "    </tr>\n",
       "  </tbody>\n",
       "</table>\n",
       "</div>"
      ],
      "text/plain": [
       "    id_trn_ach  id_cliente     fecha    hora  valor_trx  \\\n",
       "11   319249942          45  20180305  111143   49520.98   \n",
       "15   346095462          47  20180619  153159  125779.58   \n",
       "16   228320905          49  20161125  130737   75313.50   \n",
       "17   249117129          49  20170327   83646   82913.43   \n",
       "18   278487871          49  20170829  102756   67414.37   \n",
       "\n",
       "                                   ref1               sector       subsector  \\\n",
       "11  presentacion impuest predial unific             gobierno      municipios   \n",
       "15                                 sald  medios comunicacion  telefonia fija   \n",
       "16                     referent express  medios comunicacion  valor agregado   \n",
       "17                     referent express  medios comunicacion  valor agregado   \n",
       "18                     referent express  medios comunicacion  valor agregado   \n",
       "\n",
       "                                          descripcion  \\\n",
       "11  actividades ejecutivas administracion publica ...   \n",
       "15                           servicios telefonia fija   \n",
       "16        actividades telecomunicaciones inalambricas   \n",
       "17        actividades telecomunicaciones inalambricas   \n",
       "18        actividades telecomunicaciones inalambricas   \n",
       "\n",
       "                  categoria_pfm  \n",
       "11               pago de deudas  \n",
       "15  tecnologia y comunicaciones  \n",
       "16  tecnologia y comunicaciones  \n",
       "17  tecnologia y comunicaciones  \n",
       "18  tecnologia y comunicaciones  "
      ]
     },
     "execution_count": 214,
     "metadata": {},
     "output_type": "execute_result"
    }
   ],
   "source": [
    "muestra_clasificador.head()"
   ]
  },
  {
   "cell_type": "markdown",
   "metadata": {},
   "source": [
    "Generar set de datos que contienen informacion de sector, subsector y descripcion"
   ]
  },
  {
   "cell_type": "code",
   "execution_count": 20,
   "metadata": {},
   "outputs": [
    {
     "data": {
      "text/plain": [
       "(2969291, 10)"
      ]
     },
     "execution_count": 20,
     "metadata": {},
     "output_type": "execute_result"
    }
   ],
   "source": [
    "muestra_sector.shape"
   ]
  },
  {
   "cell_type": "markdown",
   "metadata": {},
   "source": [
    "Generar set de datos con sector, subsector y descripcion pero que al cruzar con las etiquetas creadas quedo sin etiqueta, para generar clusterizacion por la informacion de la referencia"
   ]
  },
  {
   "cell_type": "code",
   "execution_count": 30,
   "metadata": {},
   "outputs": [
    {
     "data": {
      "text/html": [
       "<div>\n",
       "<style scoped>\n",
       "    .dataframe tbody tr th:only-of-type {\n",
       "        vertical-align: middle;\n",
       "    }\n",
       "\n",
       "    .dataframe tbody tr th {\n",
       "        vertical-align: top;\n",
       "    }\n",
       "\n",
       "    .dataframe thead th {\n",
       "        text-align: right;\n",
       "    }\n",
       "</style>\n",
       "<table border=\"1\" class=\"dataframe\">\n",
       "  <thead>\n",
       "    <tr style=\"text-align: right;\">\n",
       "      <th></th>\n",
       "      <th>id_trn_ach</th>\n",
       "      <th>id_cliente</th>\n",
       "      <th>fecha</th>\n",
       "      <th>hora</th>\n",
       "      <th>valor_trx</th>\n",
       "      <th>ref1</th>\n",
       "      <th>sector</th>\n",
       "      <th>subsector</th>\n",
       "      <th>descripcion</th>\n",
       "      <th>categoria_pfm</th>\n",
       "    </tr>\n",
       "  </thead>\n",
       "  <tbody>\n",
       "    <tr>\n",
       "      <th>0</th>\n",
       "      <td>241307506</td>\n",
       "      <td>19</td>\n",
       "      <td>20170210</td>\n",
       "      <td>142809</td>\n",
       "      <td>701067.98</td>\n",
       "      <td>planilla cesantias</td>\n",
       "      <td>servicios financieros</td>\n",
       "      <td>servicios financieros</td>\n",
       "      <td>actividades auxiliares actividades servicios f...</td>\n",
       "      <td>NaN</td>\n",
       "    </tr>\n",
       "    <tr>\n",
       "      <th>1</th>\n",
       "      <td>285847659</td>\n",
       "      <td>40</td>\n",
       "      <td>20171003</td>\n",
       "      <td>151703</td>\n",
       "      <td>192491.73</td>\n",
       "      <td>factura asociado</td>\n",
       "      <td>servicios financieros</td>\n",
       "      <td>bancos</td>\n",
       "      <td>bancos comerciales</td>\n",
       "      <td>NaN</td>\n",
       "    </tr>\n",
       "    <tr>\n",
       "      <th>3</th>\n",
       "      <td>335337578</td>\n",
       "      <td>45</td>\n",
       "      <td>20180507</td>\n",
       "      <td>145248</td>\n",
       "      <td>431146.54</td>\n",
       "      <td>edif mirabell</td>\n",
       "      <td>servicios financieros</td>\n",
       "      <td>bancos</td>\n",
       "      <td>bancos comerciales</td>\n",
       "      <td>NaN</td>\n",
       "    </tr>\n",
       "    <tr>\n",
       "      <th>4</th>\n",
       "      <td>365833134</td>\n",
       "      <td>45</td>\n",
       "      <td>20180903</td>\n",
       "      <td>160242</td>\n",
       "      <td>264895.19</td>\n",
       "      <td>edif mirabell</td>\n",
       "      <td>servicios financieros</td>\n",
       "      <td>bancos</td>\n",
       "      <td>bancos comerciales</td>\n",
       "      <td>NaN</td>\n",
       "    </tr>\n",
       "    <tr>\n",
       "      <th>11</th>\n",
       "      <td>275818562</td>\n",
       "      <td>55</td>\n",
       "      <td>20170814</td>\n",
       "      <td>102457</td>\n",
       "      <td>1519060.05</td>\n",
       "      <td>factura asociado</td>\n",
       "      <td>servicios financieros</td>\n",
       "      <td>bancos</td>\n",
       "      <td>bancos comerciales</td>\n",
       "      <td>NaN</td>\n",
       "    </tr>\n",
       "  </tbody>\n",
       "</table>\n",
       "</div>"
      ],
      "text/plain": [
       "    id_trn_ach  id_cliente     fecha    hora   valor_trx                ref1  \\\n",
       "0    241307506          19  20170210  142809   701067.98  planilla cesantias   \n",
       "1    285847659          40  20171003  151703   192491.73    factura asociado   \n",
       "3    335337578          45  20180507  145248   431146.54       edif mirabell   \n",
       "4    365833134          45  20180903  160242   264895.19       edif mirabell   \n",
       "11   275818562          55  20170814  102457  1519060.05    factura asociado   \n",
       "\n",
       "                   sector              subsector  \\\n",
       "0   servicios financieros  servicios financieros   \n",
       "1   servicios financieros                 bancos   \n",
       "3   servicios financieros                 bancos   \n",
       "4   servicios financieros                 bancos   \n",
       "11  servicios financieros                 bancos   \n",
       "\n",
       "                                          descripcion categoria_pfm  \n",
       "0   actividades auxiliares actividades servicios f...           NaN  \n",
       "1                                  bancos comerciales           NaN  \n",
       "3                                  bancos comerciales           NaN  \n",
       "4                                  bancos comerciales           NaN  \n",
       "11                                 bancos comerciales           NaN  "
      ]
     },
     "execution_count": 30,
     "metadata": {},
     "output_type": "execute_result"
    }
   ],
   "source": [
    "muestra_cluster = muestra_etiqueta[muestra_etiqueta['categoria_pfm'].isnull()]"
   ]
  },
  {
   "cell_type": "code",
   "execution_count": 31,
   "metadata": {},
   "outputs": [
    {
     "name": "stderr",
     "output_type": "stream",
     "text": [
      "C:\\ProgramData\\Anaconda3\\lib\\site-packages\\ipykernel_launcher.py:1: SettingWithCopyWarning: \n",
      "A value is trying to be set on a copy of a slice from a DataFrame.\n",
      "Try using .loc[row_indexer,col_indexer] = value instead\n",
      "\n",
      "See the caveats in the documentation: http://pandas.pydata.org/pandas-docs/stable/indexing.html#indexing-view-versus-copy\n",
      "  \"\"\"Entry point for launching an IPython kernel.\n",
      "C:\\ProgramData\\Anaconda3\\lib\\site-packages\\ipykernel_launcher.py:4: SettingWithCopyWarning: \n",
      "A value is trying to be set on a copy of a slice from a DataFrame.\n",
      "Try using .loc[row_indexer,col_indexer] = value instead\n",
      "\n",
      "See the caveats in the documentation: http://pandas.pydata.org/pandas-docs/stable/indexing.html#indexing-view-versus-copy\n",
      "  after removing the cwd from sys.path.\n",
      "C:\\ProgramData\\Anaconda3\\lib\\site-packages\\ipykernel_launcher.py:6: SettingWithCopyWarning: \n",
      "A value is trying to be set on a copy of a slice from a DataFrame.\n",
      "Try using .loc[row_indexer,col_indexer] = value instead\n",
      "\n",
      "See the caveats in the documentation: http://pandas.pydata.org/pandas-docs/stable/indexing.html#indexing-view-versus-copy\n",
      "  \n"
     ]
    }
   ],
   "source": [
    "muestra_cluster['stem'] = muestra_cluster.ref1.str.split(' ')\n",
    "\n",
    "stemmer = SnowballStemmer('spanish')\n",
    "muestra_cluster['stem2'] = muestra_cluster['stem'].apply(lambda x: [stemmer.stem(y) for y in x])\n",
    "\n",
    "muestra_cluster['stem3'] = muestra_cluster['stem2'].apply(lambda x: ' '.join(map(str,x)))"
   ]
  },
  {
   "cell_type": "code",
   "execution_count": 33,
   "metadata": {},
   "outputs": [
    {
     "data": {
      "text/html": [
       "<div>\n",
       "<style scoped>\n",
       "    .dataframe tbody tr th:only-of-type {\n",
       "        vertical-align: middle;\n",
       "    }\n",
       "\n",
       "    .dataframe tbody tr th {\n",
       "        vertical-align: top;\n",
       "    }\n",
       "\n",
       "    .dataframe thead th {\n",
       "        text-align: right;\n",
       "    }\n",
       "</style>\n",
       "<table border=\"1\" class=\"dataframe\">\n",
       "  <thead>\n",
       "    <tr style=\"text-align: right;\">\n",
       "      <th></th>\n",
       "      <th>id_trn_ach</th>\n",
       "      <th>id_cliente</th>\n",
       "      <th>fecha</th>\n",
       "      <th>hora</th>\n",
       "      <th>valor_trx</th>\n",
       "      <th>ref1</th>\n",
       "      <th>sector</th>\n",
       "      <th>subsector</th>\n",
       "      <th>descripcion</th>\n",
       "      <th>categoria_pfm</th>\n",
       "      <th>stem</th>\n",
       "      <th>stem2</th>\n",
       "      <th>stem3</th>\n",
       "    </tr>\n",
       "  </thead>\n",
       "  <tbody>\n",
       "    <tr>\n",
       "      <th>0</th>\n",
       "      <td>241307506</td>\n",
       "      <td>19</td>\n",
       "      <td>20170210</td>\n",
       "      <td>142809</td>\n",
       "      <td>701067.98</td>\n",
       "      <td>planilla cesantias</td>\n",
       "      <td>servicios financieros</td>\n",
       "      <td>servicios financieros</td>\n",
       "      <td>actividades auxiliares actividades servicios f...</td>\n",
       "      <td>NaN</td>\n",
       "      <td>[planilla, cesantias]</td>\n",
       "      <td>[planill, cesanti]</td>\n",
       "      <td>planill cesanti</td>\n",
       "    </tr>\n",
       "    <tr>\n",
       "      <th>1</th>\n",
       "      <td>285847659</td>\n",
       "      <td>40</td>\n",
       "      <td>20171003</td>\n",
       "      <td>151703</td>\n",
       "      <td>192491.73</td>\n",
       "      <td>factura asociado</td>\n",
       "      <td>servicios financieros</td>\n",
       "      <td>bancos</td>\n",
       "      <td>bancos comerciales</td>\n",
       "      <td>NaN</td>\n",
       "      <td>[factura, asociado]</td>\n",
       "      <td>[factur, asoci]</td>\n",
       "      <td>factur asoci</td>\n",
       "    </tr>\n",
       "    <tr>\n",
       "      <th>3</th>\n",
       "      <td>335337578</td>\n",
       "      <td>45</td>\n",
       "      <td>20180507</td>\n",
       "      <td>145248</td>\n",
       "      <td>431146.54</td>\n",
       "      <td>edif mirabell</td>\n",
       "      <td>servicios financieros</td>\n",
       "      <td>bancos</td>\n",
       "      <td>bancos comerciales</td>\n",
       "      <td>NaN</td>\n",
       "      <td>[edif, mirabell]</td>\n",
       "      <td>[edif, mirabell]</td>\n",
       "      <td>edif mirabell</td>\n",
       "    </tr>\n",
       "    <tr>\n",
       "      <th>4</th>\n",
       "      <td>365833134</td>\n",
       "      <td>45</td>\n",
       "      <td>20180903</td>\n",
       "      <td>160242</td>\n",
       "      <td>264895.19</td>\n",
       "      <td>edif mirabell</td>\n",
       "      <td>servicios financieros</td>\n",
       "      <td>bancos</td>\n",
       "      <td>bancos comerciales</td>\n",
       "      <td>NaN</td>\n",
       "      <td>[edif, mirabell]</td>\n",
       "      <td>[edif, mirabell]</td>\n",
       "      <td>edif mirabell</td>\n",
       "    </tr>\n",
       "    <tr>\n",
       "      <th>11</th>\n",
       "      <td>275818562</td>\n",
       "      <td>55</td>\n",
       "      <td>20170814</td>\n",
       "      <td>102457</td>\n",
       "      <td>1519060.05</td>\n",
       "      <td>factura asociado</td>\n",
       "      <td>servicios financieros</td>\n",
       "      <td>bancos</td>\n",
       "      <td>bancos comerciales</td>\n",
       "      <td>NaN</td>\n",
       "      <td>[factura, asociado]</td>\n",
       "      <td>[factur, asoci]</td>\n",
       "      <td>factur asoci</td>\n",
       "    </tr>\n",
       "  </tbody>\n",
       "</table>\n",
       "</div>"
      ],
      "text/plain": [
       "    id_trn_ach  id_cliente     fecha    hora   valor_trx                ref1  \\\n",
       "0    241307506          19  20170210  142809   701067.98  planilla cesantias   \n",
       "1    285847659          40  20171003  151703   192491.73    factura asociado   \n",
       "3    335337578          45  20180507  145248   431146.54       edif mirabell   \n",
       "4    365833134          45  20180903  160242   264895.19       edif mirabell   \n",
       "11   275818562          55  20170814  102457  1519060.05    factura asociado   \n",
       "\n",
       "                   sector              subsector  \\\n",
       "0   servicios financieros  servicios financieros   \n",
       "1   servicios financieros                 bancos   \n",
       "3   servicios financieros                 bancos   \n",
       "4   servicios financieros                 bancos   \n",
       "11  servicios financieros                 bancos   \n",
       "\n",
       "                                          descripcion categoria_pfm  \\\n",
       "0   actividades auxiliares actividades servicios f...           NaN   \n",
       "1                                  bancos comerciales           NaN   \n",
       "3                                  bancos comerciales           NaN   \n",
       "4                                  bancos comerciales           NaN   \n",
       "11                                 bancos comerciales           NaN   \n",
       "\n",
       "                     stem               stem2            stem3  \n",
       "0   [planilla, cesantias]  [planill, cesanti]  planill cesanti  \n",
       "1     [factura, asociado]     [factur, asoci]     factur asoci  \n",
       "3        [edif, mirabell]    [edif, mirabell]    edif mirabell  \n",
       "4        [edif, mirabell]    [edif, mirabell]    edif mirabell  \n",
       "11    [factura, asociado]     [factur, asoci]     factur asoci  "
      ]
     },
     "execution_count": 33,
     "metadata": {},
     "output_type": "execute_result"
    }
   ],
   "source": [
    "#muestra_cluster.shape\n",
    "muestra_cluster.head()"
   ]
  },
  {
   "cell_type": "markdown",
   "metadata": {},
   "source": [
    "## Clusterizacion\n",
    "Para este tema se decide trabjar con k-means, ya que es un algoritmo deterministico, simple de implementar y en general funciona bien.\n",
    "Nuestros datos serán el conjunto de frases que contiene el campo de ref1, este campo debe quedar en una lista de listas de oraciones tokenizadas por palabras.\n",
    "\n",
    "En esta parte se clusterizaran los sectores, subsectores y descripcion que no se encontraron con una etiqueta valida."
   ]
  },
  {
   "cell_type": "markdown",
   "metadata": {},
   "source": [
    "Se vuelve el campo referencia una lista de oraciones"
   ]
  },
  {
   "cell_type": "code",
   "execution_count": 34,
   "metadata": {},
   "outputs": [],
   "source": [
    "campo_cluster=list(set(muestra_cluster['stem3']))"
   ]
  },
  {
   "cell_type": "markdown",
   "metadata": {},
   "source": [
    "Se tokenizan las oraciones para que la frase quede como una lista de palabras."
   ]
  },
  {
   "cell_type": "code",
   "execution_count": 35,
   "metadata": {},
   "outputs": [
    {
     "data": {
      "text/plain": [
       "['sandr', 'milen', 'idarragaroj']"
      ]
     },
     "execution_count": 35,
     "metadata": {},
     "output_type": "execute_result"
    }
   ],
   "source": [
    "sentences = [z.split(' ') for z in campo_cluster]\n",
    "sentences[10]"
   ]
  },
  {
   "cell_type": "markdown",
   "metadata": {},
   "source": [
    "A cada frase se le asigna un vector de numeros reales (inscrustaciones de palabras)"
   ]
  },
  {
   "cell_type": "code",
   "execution_count": 36,
   "metadata": {},
   "outputs": [],
   "source": [
    "model = Word2Vec(sentences, min_count=1)"
   ]
  },
  {
   "cell_type": "markdown",
   "metadata": {},
   "source": [
    "# Pasar del nivel de palabra al nivel de oración\n",
    "\n",
    "Para cada oración del conjunto de frases"
   ]
  },
  {
   "cell_type": "code",
   "execution_count": 37,
   "metadata": {},
   "outputs": [
    {
     "name": "stderr",
     "output_type": "stream",
     "text": [
      "C:\\ProgramData\\Anaconda3\\lib\\site-packages\\ipykernel_launcher.py:7: DeprecationWarning: Call to deprecated `__getitem__` (Method will be removed in 4.0.0, use self.wv.__getitem__() instead).\n",
      "  import sys\n",
      "C:\\ProgramData\\Anaconda3\\lib\\site-packages\\ipykernel_launcher.py:9: DeprecationWarning: Call to deprecated `__getitem__` (Method will be removed in 4.0.0, use self.wv.__getitem__() instead).\n",
      "  if __name__ == '__main__':\n"
     ]
    },
    {
     "name": "stdout",
     "output_type": "stream",
     "text": [
      "========================\n"
     ]
    },
    {
     "data": {
      "text/plain": [
       "array([-4.0615657e-03, -3.5153548e-03,  1.9421277e-03, -4.5870477e-03,\n",
       "       -3.6053848e-03,  2.1307894e-03,  4.1170735e-03,  2.2587732e-03,\n",
       "       -2.5612048e-03,  4.0336032e-03, -3.1040311e-03, -4.4158157e-03,\n",
       "       -2.5812941e-04,  3.7322021e-03, -1.8804775e-03, -1.4909713e-03,\n",
       "        1.7163982e-03,  2.0066029e-03,  4.6155814e-04,  4.3784184e-03,\n",
       "        2.2370582e-03,  3.9523626e-03, -3.7607825e-03,  4.7048326e-03,\n",
       "       -1.3580935e-03, -1.3884024e-03,  1.5567620e-03,  1.3202998e-03,\n",
       "        4.0647970e-03,  2.1649629e-03,  3.8794097e-03, -3.2645448e-03,\n",
       "        3.0569602e-03, -9.3273201e-04,  1.5773536e-03,  3.2364798e-03,\n",
       "        2.7230612e-03, -9.9430536e-04,  3.5913642e-03,  1.7923579e-03,\n",
       "       -4.3137809e-03, -1.5268085e-04, -2.0651906e-03,  1.3600462e-03,\n",
       "        3.8728663e-03,  4.7645685e-03,  6.2114786e-04, -1.2775550e-04,\n",
       "        4.2400643e-05,  3.2526592e-03,  6.5552146e-04, -4.6777070e-04,\n",
       "        3.0508945e-03,  3.3355420e-03, -4.5117810e-03, -2.0961061e-03,\n",
       "        9.9808734e-04, -2.7795120e-03, -3.3210812e-03,  1.6208774e-03,\n",
       "       -1.8388366e-03, -2.1117371e-04, -1.0267622e-03, -4.6934034e-03,\n",
       "        2.8334607e-03, -2.7708425e-03,  4.1519022e-03, -1.6940305e-03,\n",
       "        3.7634457e-03,  1.6948646e-03,  1.2183101e-03, -1.6905825e-03,\n",
       "       -1.3138771e-03, -5.4056418e-05,  9.7099453e-04, -1.3834313e-03,\n",
       "       -4.0503293e-03,  1.7006692e-03,  4.1828905e-03, -6.6604762e-04,\n",
       "        2.7860806e-03,  2.6974457e-04,  4.5159403e-03, -4.1387426e-03,\n",
       "       -1.7565779e-03,  2.0050989e-03, -3.2378410e-04,  4.6918271e-03,\n",
       "       -2.7170081e-03,  2.9824802e-03,  3.0664927e-03, -4.1571050e-03,\n",
       "       -4.5196428e-03,  1.0886523e-03,  4.8695710e-03, -2.3468207e-03,\n",
       "       -4.9963878e-03, -4.3958244e-03, -2.3721135e-03,  2.2623674e-03],\n",
       "      dtype=float32)"
      ]
     },
     "execution_count": 37,
     "metadata": {},
     "output_type": "execute_result"
    }
   ],
   "source": [
    "def sent_vectorizer(sent, model):\n",
    "    sent_vec =[]\n",
    "    numw = 0\n",
    "    for w in sent:\n",
    "        try:\n",
    "            if numw == 0:\n",
    "                sent_vec = model[w]\n",
    "            else:\n",
    "                sent_vec = np.add(sent_vec, model[w])\n",
    "            numw+=1\n",
    "        except:\n",
    "            pass\n",
    "     \n",
    "    return np.asarray(sent_vec) / numw\n",
    "\n",
    "\n",
    "X=[]\n",
    "for sentence in sentences:\n",
    "    X.append(sent_vectorizer(sentence, model))\n",
    " \n",
    "print (\"========================\")\n",
    "X[0]"
   ]
  },
  {
   "cell_type": "code",
   "execution_count": 38,
   "metadata": {},
   "outputs": [
    {
     "data": {
      "image/png": "[encoded data removed]",
      "text/plain": [
       "<Figure size 432x288 with 1 Axes>"
      ]
     },
     "metadata": {
      "needs_background": "light"
     },
     "output_type": "display_data"
    }
   ],
   "source": [
    "import matplotlib.pyplot as plt\n",
    "\n",
    "#Finding the optimum number of clusters for k-means classification\n",
    "from sklearn.cluster import KMeans\n",
    "wcss = []\n",
    "\n",
    "for i in range(1, 10):\n",
    "    kmeans = KMeans(n_clusters = i, init = 'k-means++', max_iter = 300, n_init = 10, random_state = 0)\n",
    "    kmeans.fit(X)\n",
    "    wcss.append(kmeans.inertia_)\n",
    "    \n",
    "#Plotting the results onto a line graph, allowing us to observe 'The elbow'\n",
    "plt.plot(range(1, 10), wcss)\n",
    "plt.title('The elbow method')\n",
    "plt.xlabel('Number of clusters')\n",
    "plt.ylabel('WCSS') #within cluster sum of squares\n",
    "plt.show()"
   ]
  },
  {
   "cell_type": "code",
   "execution_count": 39,
   "metadata": {},
   "outputs": [],
   "source": [
    "NUM_CLUSTERS=3\n",
    "kclusterer = KMeansClusterer(NUM_CLUSTERS, distance=nltk.cluster.util.cosine_distance, repeats=25)\n",
    "assigned_clusters = kclusterer.cluster(X, assign_clusters=True)\n",
    "#print (assigned_clusters)"
   ]
  },
  {
   "cell_type": "code",
   "execution_count": 40,
   "metadata": {},
   "outputs": [],
   "source": [
    "s=[]\n",
    "for index, sentence in enumerate(sentences):    \n",
    "    s.append(str(assigned_clusters[index]) + str(sentence))"
   ]
  },
  {
   "cell_type": "code",
   "execution_count": 41,
   "metadata": {},
   "outputs": [],
   "source": [
    "df_cluster = pd.DataFrame(data=s, columns = ['cluster_frase'])"
   ]
  },
  {
   "cell_type": "code",
   "execution_count": 42,
   "metadata": {},
   "outputs": [
    {
     "data": {
      "text/html": [
       "<div>\n",
       "<style scoped>\n",
       "    .dataframe tbody tr th:only-of-type {\n",
       "        vertical-align: middle;\n",
       "    }\n",
       "\n",
       "    .dataframe tbody tr th {\n",
       "        vertical-align: top;\n",
       "    }\n",
       "\n",
       "    .dataframe thead th {\n",
       "        text-align: right;\n",
       "    }\n",
       "</style>\n",
       "<table border=\"1\" class=\"dataframe\">\n",
       "  <thead>\n",
       "    <tr style=\"text-align: right;\">\n",
       "      <th></th>\n",
       "      <th>cluster_frase</th>\n",
       "    </tr>\n",
       "  </thead>\n",
       "  <tbody>\n",
       "    <tr>\n",
       "      <th>0</th>\n",
       "      <td>2['premex']</td>\n",
       "    </tr>\n",
       "    <tr>\n",
       "      <th>1</th>\n",
       "      <td>0['mal', 'praxis']</td>\n",
       "    </tr>\n",
       "    <tr>\n",
       "      <th>2</th>\n",
       "      <td>0['asistent', 'medic']</td>\n",
       "    </tr>\n",
       "    <tr>\n",
       "      <th>3</th>\n",
       "      <td>0['pensin', 'transport', 'abrilequitacin']</td>\n",
       "    </tr>\n",
       "    <tr>\n",
       "      <th>4</th>\n",
       "      <td>2['pagoabrilymay']</td>\n",
       "    </tr>\n",
       "  </tbody>\n",
       "</table>\n",
       "</div>"
      ],
      "text/plain": [
       "                                cluster_frase\n",
       "0                                 2['premex']\n",
       "1                          0['mal', 'praxis']\n",
       "2                      0['asistent', 'medic']\n",
       "3  0['pensin', 'transport', 'abrilequitacin']\n",
       "4                          2['pagoabrilymay']"
      ]
     },
     "execution_count": 42,
     "metadata": {},
     "output_type": "execute_result"
    }
   ],
   "source": [
    "df_cluster.head()"
   ]
  },
  {
   "cell_type": "code",
   "execution_count": 44,
   "metadata": {},
   "outputs": [
    {
     "data": {
      "text/html": [
       "<div>\n",
       "<style scoped>\n",
       "    .dataframe tbody tr th:only-of-type {\n",
       "        vertical-align: middle;\n",
       "    }\n",
       "\n",
       "    .dataframe tbody tr th {\n",
       "        vertical-align: top;\n",
       "    }\n",
       "\n",
       "    .dataframe thead th {\n",
       "        text-align: right;\n",
       "    }\n",
       "</style>\n",
       "<table border=\"1\" class=\"dataframe\">\n",
       "  <thead>\n",
       "    <tr style=\"text-align: right;\">\n",
       "      <th></th>\n",
       "      <th>cluster_frase</th>\n",
       "      <th>cluster</th>\n",
       "      <th>frase</th>\n",
       "    </tr>\n",
       "  </thead>\n",
       "  <tbody>\n",
       "    <tr>\n",
       "      <th>0</th>\n",
       "      <td>2['premex']</td>\n",
       "      <td>2</td>\n",
       "      <td>['premex']</td>\n",
       "    </tr>\n",
       "    <tr>\n",
       "      <th>1</th>\n",
       "      <td>0['mal', 'praxis']</td>\n",
       "      <td>0</td>\n",
       "      <td>['mal', 'praxis']</td>\n",
       "    </tr>\n",
       "    <tr>\n",
       "      <th>2</th>\n",
       "      <td>0['asistent', 'medic']</td>\n",
       "      <td>0</td>\n",
       "      <td>['asistent', 'medic']</td>\n",
       "    </tr>\n",
       "    <tr>\n",
       "      <th>3</th>\n",
       "      <td>0['pensin', 'transport', 'abrilequitacin']</td>\n",
       "      <td>0</td>\n",
       "      <td>['pensin', 'transport', 'abrilequitacin']</td>\n",
       "    </tr>\n",
       "    <tr>\n",
       "      <th>4</th>\n",
       "      <td>2['pagoabrilymay']</td>\n",
       "      <td>2</td>\n",
       "      <td>['pagoabrilymay']</td>\n",
       "    </tr>\n",
       "  </tbody>\n",
       "</table>\n",
       "</div>"
      ],
      "text/plain": [
       "                                cluster_frase cluster  \\\n",
       "0                                 2['premex']       2   \n",
       "1                          0['mal', 'praxis']       0   \n",
       "2                      0['asistent', 'medic']       0   \n",
       "3  0['pensin', 'transport', 'abrilequitacin']       0   \n",
       "4                          2['pagoabrilymay']       2   \n",
       "\n",
       "                                       frase  \n",
       "0                                 ['premex']  \n",
       "1                          ['mal', 'praxis']  \n",
       "2                      ['asistent', 'medic']  \n",
       "3  ['pensin', 'transport', 'abrilequitacin']  \n",
       "4                          ['pagoabrilymay']  "
      ]
     },
     "execution_count": 44,
     "metadata": {},
     "output_type": "execute_result"
    }
   ],
   "source": [
    "df_cluster['cluster']= df_cluster['cluster_frase'].str[0]\n",
    "df_cluster['frase']= df_cluster['cluster_frase'].str[1:]\n",
    "df_cluster.head()"
   ]
  },
  {
   "cell_type": "code",
   "execution_count": 146,
   "metadata": {},
   "outputs": [],
   "source": [
    "#df_cluster.to_csv('cluster_buenos_stem.csv', sep='|', index = None, encoding='utf-8')"
   ]
  },
  {
   "cell_type": "code",
   "execution_count": 45,
   "metadata": {},
   "outputs": [
    {
     "name": "stdout",
     "output_type": "stream",
     "text": [
      "Cluster id labels for inputted data\n",
      "[0 0 1 ... 1 2 1]\n",
      "Centroids data\n",
      "[[ 0.02320175  0.00359388  0.02406441  0.0132644  -0.02867831 -0.00444175\n",
      "   0.01759452  0.00834232 -0.02584915 -0.01526175  0.03333687  0.01506057\n",
      "  -0.03169145  0.01758192  0.01761992 -0.02446303  0.01933446 -0.02313769\n",
      "  -0.00870785 -0.00900547 -0.00392228 -0.0018878  -0.00898437 -0.03503165\n",
      "  -0.01367053  0.00161646  0.0093681   0.00476304  0.00299605  0.01761719\n",
      "   0.00635213  0.00203113 -0.01073088 -0.01465826  0.00961377 -0.00365026\n",
      "   0.01678026 -0.01084366  0.01128379  0.00547044 -0.00593545 -0.0259597\n",
      "   0.00784527 -0.01093144 -0.01041988 -0.02336159 -0.02895549  0.02024352\n",
      "  -0.02260288  0.00830094  0.01320798 -0.00420449 -0.0129013   0.0169053\n",
      "   0.00519023 -0.01754446 -0.00696436 -0.01365944  0.01036782  0.00783784\n",
      "   0.01782151  0.00061746 -0.0125193   0.01977672  0.0257087   0.00370994\n",
      "  -0.00827763  0.02352901  0.02209482  0.01756277  0.00065469 -0.01791017\n",
      "  -0.01989221  0.01281645 -0.01670037  0.02071512  0.01587316 -0.01969133\n",
      "  -0.01477456  0.0023817  -0.00253875  0.02057431 -0.01369573  0.0273853\n",
      "  -0.00166138  0.02056586  0.0005817   0.02116446 -0.00456301 -0.00297937\n",
      "  -0.00889937  0.0196187  -0.03113253 -0.01597567 -0.04100524  0.01522523\n",
      "   0.0062679  -0.01173054 -0.01970379 -0.00289984]\n",
      " [ 0.0905957   0.00455186  0.08445141  0.04403134 -0.09948518 -0.02859145\n",
      "   0.05569233  0.02663679 -0.10063615 -0.05885993  0.1221448   0.04999954\n",
      "  -0.11585481  0.06114725  0.07324366 -0.07645992  0.08645692 -0.07197685\n",
      "  -0.03493969 -0.02724217 -0.01983433  0.00088332 -0.02233036 -0.13680191\n",
      "  -0.05506305  0.00076067  0.03154606  0.00702487  0.0046545   0.06967149\n",
      "   0.02902875  0.00446548 -0.02185465 -0.05664743  0.02597806 -0.00726026\n",
      "   0.03799298 -0.05351381  0.04216867  0.01198394 -0.0149195  -0.1162198\n",
      "   0.02571656 -0.04558792 -0.03648809 -0.08940891 -0.10865497  0.08904989\n",
      "  -0.07512387  0.02066431  0.04954731 -0.01292732 -0.04819887  0.05941937\n",
      "   0.01216236 -0.04687019 -0.01765134 -0.05439939  0.05335562  0.01419467\n",
      "   0.06593786  0.01589878 -0.0592946   0.07786374  0.09867194  0.0150186\n",
      "  -0.04454582  0.09538672  0.06943689  0.05269258 -0.00570298 -0.05034539\n",
      "  -0.07395095  0.05601999 -0.06254273  0.07212526  0.05479746 -0.0537434\n",
      "  -0.04042718  0.00124663  0.01536162  0.08631071 -0.05245962  0.11061674\n",
      "  -0.01537451  0.07745479 -0.0046642   0.06447231 -0.01101722 -0.02063409\n",
      "  -0.02636081  0.09157916 -0.10496304 -0.04184256 -0.1553261   0.05895098\n",
      "   0.02647206 -0.0387057  -0.0650381  -0.01995877]\n",
      " [ 0.15385591  0.00787641  0.14317292  0.07440158 -0.16914643 -0.04937066\n",
      "   0.09437962  0.04535497 -0.17136161 -0.0994652   0.20772797  0.08580571\n",
      "  -0.19605576  0.10421893  0.12523539 -0.12931514  0.14774098 -0.12260715\n",
      "  -0.05972582 -0.04603857 -0.03329739  0.00192911 -0.03731719 -0.23212287\n",
      "  -0.09437838  0.0004331   0.05310959  0.01118933  0.00760816  0.11830332\n",
      "   0.04968353  0.007656   -0.03698946 -0.09664352  0.04418152 -0.01249394\n",
      "   0.06485035 -0.09137058  0.07085064  0.01985421 -0.02505165 -0.19849245\n",
      "   0.04389013 -0.07727097 -0.06206499 -0.15198161 -0.18445216  0.15091214\n",
      "  -0.12802421  0.03487233  0.08413511 -0.02166954 -0.08196141  0.10129621\n",
      "   0.02166258 -0.08050461 -0.0295661  -0.09261953  0.09112979  0.02361895\n",
      "   0.11243165  0.02717156 -0.10162493  0.13329817  0.16754634  0.02490739\n",
      "  -0.07587756  0.16249874  0.11807901  0.08959842 -0.0104218  -0.086872\n",
      "  -0.12694646  0.09628473 -0.1059864   0.12318913  0.09301585 -0.09159458\n",
      "  -0.0685052   0.00149139  0.02634647  0.14664321 -0.08892111  0.18817579\n",
      "  -0.0265627   0.13207341 -0.00863474  0.10957251 -0.01844167 -0.03619717\n",
      "  -0.04424609  0.15622456 -0.17796822 -0.07037356 -0.26489347  0.10104811\n",
      "   0.04487703 -0.0655826  -0.11025444 -0.03462159]]\n",
      "Score (Opposite of the value of X on the K-means objective which is Sum of distances of samples to their closest cluster center):\n",
      "-237.09722434826418\n",
      "Silhouette_score: \n",
      "0.58932287\n"
     ]
    }
   ],
   "source": [
    "kmeans = cluster.KMeans(n_clusters=NUM_CLUSTERS)\n",
    "kmeans.fit(X)\n",
    "  \n",
    "labels = kmeans.labels_\n",
    "centroids = kmeans.cluster_centers_\n",
    "  \n",
    "print (\"Cluster id labels for inputted data\")\n",
    "print (labels)\n",
    "print (\"Centroids data\")\n",
    "print (centroids)\n",
    "  \n",
    "print (\"Score (Opposite of the value of X on the K-means objective which is Sum of distances of samples to their closest cluster center):\")\n",
    "print (kmeans.score(X))\n",
    "  \n",
    "silhouette_score = metrics.silhouette_score(X, labels, metric='euclidean')\n",
    "  \n",
    "print (\"Silhouette_score: \")\n",
    "print (silhouette_score)"
   ]
  },
  {
   "cell_type": "code",
   "execution_count": 46,
   "metadata": {},
   "outputs": [
    {
     "data": {
      "text/html": [
       "<div>\n",
       "<style scoped>\n",
       "    .dataframe tbody tr th:only-of-type {\n",
       "        vertical-align: middle;\n",
       "    }\n",
       "\n",
       "    .dataframe tbody tr th {\n",
       "        vertical-align: top;\n",
       "    }\n",
       "\n",
       "    .dataframe thead th {\n",
       "        text-align: right;\n",
       "    }\n",
       "</style>\n",
       "<table border=\"1\" class=\"dataframe\">\n",
       "  <thead>\n",
       "    <tr style=\"text-align: right;\">\n",
       "      <th></th>\n",
       "      <th>cluster_frase</th>\n",
       "      <th>cluster</th>\n",
       "      <th>frase</th>\n",
       "      <th>stem3</th>\n",
       "    </tr>\n",
       "  </thead>\n",
       "  <tbody>\n",
       "    <tr>\n",
       "      <th>0</th>\n",
       "      <td>2['premex']</td>\n",
       "      <td>2</td>\n",
       "      <td>['premex']</td>\n",
       "      <td>premex</td>\n",
       "    </tr>\n",
       "    <tr>\n",
       "      <th>1</th>\n",
       "      <td>0['mal', 'praxis']</td>\n",
       "      <td>0</td>\n",
       "      <td>['mal', 'praxis']</td>\n",
       "      <td>mal praxis</td>\n",
       "    </tr>\n",
       "    <tr>\n",
       "      <th>2</th>\n",
       "      <td>0['asistent', 'medic']</td>\n",
       "      <td>0</td>\n",
       "      <td>['asistent', 'medic']</td>\n",
       "      <td>asistent medic</td>\n",
       "    </tr>\n",
       "    <tr>\n",
       "      <th>3</th>\n",
       "      <td>0['pensin', 'transport', 'abrilequitacin']</td>\n",
       "      <td>0</td>\n",
       "      <td>['pensin', 'transport', 'abrilequitacin']</td>\n",
       "      <td>pensin transport abrilequitacin</td>\n",
       "    </tr>\n",
       "    <tr>\n",
       "      <th>4</th>\n",
       "      <td>2['pagoabrilymay']</td>\n",
       "      <td>2</td>\n",
       "      <td>['pagoabrilymay']</td>\n",
       "      <td>pagoabrilymay</td>\n",
       "    </tr>\n",
       "  </tbody>\n",
       "</table>\n",
       "</div>"
      ],
      "text/plain": [
       "                                cluster_frase cluster  \\\n",
       "0                                 2['premex']       2   \n",
       "1                          0['mal', 'praxis']       0   \n",
       "2                      0['asistent', 'medic']       0   \n",
       "3  0['pensin', 'transport', 'abrilequitacin']       0   \n",
       "4                          2['pagoabrilymay']       2   \n",
       "\n",
       "                                       frase                            stem3  \n",
       "0                                 ['premex']                           premex  \n",
       "1                          ['mal', 'praxis']                       mal praxis  \n",
       "2                      ['asistent', 'medic']                   asistent medic  \n",
       "3  ['pensin', 'transport', 'abrilequitacin']  pensin transport abrilequitacin  \n",
       "4                          ['pagoabrilymay']                    pagoabrilymay  "
      ]
     },
     "execution_count": 46,
     "metadata": {},
     "output_type": "execute_result"
    }
   ],
   "source": [
    "df_cluster['stem3'] = df_cluster['frase'].str.replace(\"'\",'').str.replace(',','').str.replace('[','').str.replace(']','')\n",
    "df_cluster.head()"
   ]
  },
  {
   "cell_type": "code",
   "execution_count": 47,
   "metadata": {},
   "outputs": [
    {
     "data": {
      "text/html": [
       "<div>\n",
       "<style scoped>\n",
       "    .dataframe tbody tr th:only-of-type {\n",
       "        vertical-align: middle;\n",
       "    }\n",
       "\n",
       "    .dataframe tbody tr th {\n",
       "        vertical-align: top;\n",
       "    }\n",
       "\n",
       "    .dataframe thead th {\n",
       "        text-align: right;\n",
       "    }\n",
       "</style>\n",
       "<table border=\"1\" class=\"dataframe\">\n",
       "  <thead>\n",
       "    <tr style=\"text-align: right;\">\n",
       "      <th></th>\n",
       "      <th>id_trn_ach</th>\n",
       "      <th>id_cliente</th>\n",
       "      <th>fecha</th>\n",
       "      <th>hora</th>\n",
       "      <th>valor_trx</th>\n",
       "      <th>ref1</th>\n",
       "      <th>sector</th>\n",
       "      <th>subsector</th>\n",
       "      <th>descripcion</th>\n",
       "      <th>categoria_pfm</th>\n",
       "      <th>stem</th>\n",
       "      <th>stem2</th>\n",
       "      <th>stem3</th>\n",
       "    </tr>\n",
       "  </thead>\n",
       "  <tbody>\n",
       "    <tr>\n",
       "      <th>0</th>\n",
       "      <td>241307506</td>\n",
       "      <td>19</td>\n",
       "      <td>20170210</td>\n",
       "      <td>142809</td>\n",
       "      <td>701067.98</td>\n",
       "      <td>planilla cesantias</td>\n",
       "      <td>servicios financieros</td>\n",
       "      <td>servicios financieros</td>\n",
       "      <td>actividades auxiliares actividades servicios f...</td>\n",
       "      <td>NaN</td>\n",
       "      <td>[planilla, cesantias]</td>\n",
       "      <td>[planill, cesanti]</td>\n",
       "      <td>planill cesanti</td>\n",
       "    </tr>\n",
       "    <tr>\n",
       "      <th>1</th>\n",
       "      <td>285847659</td>\n",
       "      <td>40</td>\n",
       "      <td>20171003</td>\n",
       "      <td>151703</td>\n",
       "      <td>192491.73</td>\n",
       "      <td>factura asociado</td>\n",
       "      <td>servicios financieros</td>\n",
       "      <td>bancos</td>\n",
       "      <td>bancos comerciales</td>\n",
       "      <td>NaN</td>\n",
       "      <td>[factura, asociado]</td>\n",
       "      <td>[factur, asoci]</td>\n",
       "      <td>factur asoci</td>\n",
       "    </tr>\n",
       "    <tr>\n",
       "      <th>3</th>\n",
       "      <td>335337578</td>\n",
       "      <td>45</td>\n",
       "      <td>20180507</td>\n",
       "      <td>145248</td>\n",
       "      <td>431146.54</td>\n",
       "      <td>edif mirabell</td>\n",
       "      <td>servicios financieros</td>\n",
       "      <td>bancos</td>\n",
       "      <td>bancos comerciales</td>\n",
       "      <td>NaN</td>\n",
       "      <td>[edif, mirabell]</td>\n",
       "      <td>[edif, mirabell]</td>\n",
       "      <td>edif mirabell</td>\n",
       "    </tr>\n",
       "    <tr>\n",
       "      <th>4</th>\n",
       "      <td>365833134</td>\n",
       "      <td>45</td>\n",
       "      <td>20180903</td>\n",
       "      <td>160242</td>\n",
       "      <td>264895.19</td>\n",
       "      <td>edif mirabell</td>\n",
       "      <td>servicios financieros</td>\n",
       "      <td>bancos</td>\n",
       "      <td>bancos comerciales</td>\n",
       "      <td>NaN</td>\n",
       "      <td>[edif, mirabell]</td>\n",
       "      <td>[edif, mirabell]</td>\n",
       "      <td>edif mirabell</td>\n",
       "    </tr>\n",
       "    <tr>\n",
       "      <th>11</th>\n",
       "      <td>275818562</td>\n",
       "      <td>55</td>\n",
       "      <td>20170814</td>\n",
       "      <td>102457</td>\n",
       "      <td>1519060.05</td>\n",
       "      <td>factura asociado</td>\n",
       "      <td>servicios financieros</td>\n",
       "      <td>bancos</td>\n",
       "      <td>bancos comerciales</td>\n",
       "      <td>NaN</td>\n",
       "      <td>[factura, asociado]</td>\n",
       "      <td>[factur, asoci]</td>\n",
       "      <td>factur asoci</td>\n",
       "    </tr>\n",
       "  </tbody>\n",
       "</table>\n",
       "</div>"
      ],
      "text/plain": [
       "    id_trn_ach  id_cliente     fecha    hora   valor_trx                ref1  \\\n",
       "0    241307506          19  20170210  142809   701067.98  planilla cesantias   \n",
       "1    285847659          40  20171003  151703   192491.73    factura asociado   \n",
       "3    335337578          45  20180507  145248   431146.54       edif mirabell   \n",
       "4    365833134          45  20180903  160242   264895.19       edif mirabell   \n",
       "11   275818562          55  20170814  102457  1519060.05    factura asociado   \n",
       "\n",
       "                   sector              subsector  \\\n",
       "0   servicios financieros  servicios financieros   \n",
       "1   servicios financieros                 bancos   \n",
       "3   servicios financieros                 bancos   \n",
       "4   servicios financieros                 bancos   \n",
       "11  servicios financieros                 bancos   \n",
       "\n",
       "                                          descripcion categoria_pfm  \\\n",
       "0   actividades auxiliares actividades servicios f...           NaN   \n",
       "1                                  bancos comerciales           NaN   \n",
       "3                                  bancos comerciales           NaN   \n",
       "4                                  bancos comerciales           NaN   \n",
       "11                                 bancos comerciales           NaN   \n",
       "\n",
       "                     stem               stem2            stem3  \n",
       "0   [planilla, cesantias]  [planill, cesanti]  planill cesanti  \n",
       "1     [factura, asociado]     [factur, asoci]     factur asoci  \n",
       "3        [edif, mirabell]    [edif, mirabell]    edif mirabell  \n",
       "4        [edif, mirabell]    [edif, mirabell]    edif mirabell  \n",
       "11    [factura, asociado]     [factur, asoci]     factur asoci  "
      ]
     },
     "execution_count": 47,
     "metadata": {},
     "output_type": "execute_result"
    }
   ],
   "source": [
    "muestra_cluster.head()"
   ]
  },
  {
   "cell_type": "code",
   "execution_count": 48,
   "metadata": {},
   "outputs": [],
   "source": [
    "muestra_cluster_final = pd.merge(muestra_cluster, df_cluster, how='inner', on=['stem3'])"
   ]
  },
  {
   "cell_type": "code",
   "execution_count": 49,
   "metadata": {},
   "outputs": [
    {
     "data": {
      "text/plain": [
       "(888032, 16)"
      ]
     },
     "execution_count": 49,
     "metadata": {},
     "output_type": "execute_result"
    }
   ],
   "source": [
    "muestra_cluster_final.shape"
   ]
  },
  {
   "cell_type": "code",
   "execution_count": 50,
   "metadata": {},
   "outputs": [
    {
     "data": {
      "text/html": [
       "<div>\n",
       "<style scoped>\n",
       "    .dataframe tbody tr th:only-of-type {\n",
       "        vertical-align: middle;\n",
       "    }\n",
       "\n",
       "    .dataframe tbody tr th {\n",
       "        vertical-align: top;\n",
       "    }\n",
       "\n",
       "    .dataframe thead th {\n",
       "        text-align: right;\n",
       "    }\n",
       "</style>\n",
       "<table border=\"1\" class=\"dataframe\">\n",
       "  <thead>\n",
       "    <tr style=\"text-align: right;\">\n",
       "      <th></th>\n",
       "      <th>id_trn_ach</th>\n",
       "      <th>id_cliente</th>\n",
       "      <th>fecha</th>\n",
       "      <th>hora</th>\n",
       "      <th>valor_trx</th>\n",
       "      <th>ref1</th>\n",
       "      <th>sector</th>\n",
       "      <th>subsector</th>\n",
       "      <th>descripcion</th>\n",
       "      <th>categoria_pfm</th>\n",
       "      <th>stem</th>\n",
       "      <th>stem2</th>\n",
       "      <th>stem3</th>\n",
       "      <th>cluster_frase</th>\n",
       "      <th>cluster</th>\n",
       "      <th>frase</th>\n",
       "    </tr>\n",
       "  </thead>\n",
       "  <tbody>\n",
       "    <tr>\n",
       "      <th>0</th>\n",
       "      <td>241307506</td>\n",
       "      <td>19</td>\n",
       "      <td>20170210</td>\n",
       "      <td>142809</td>\n",
       "      <td>701067.98</td>\n",
       "      <td>planilla cesantias</td>\n",
       "      <td>servicios financieros</td>\n",
       "      <td>servicios financieros</td>\n",
       "      <td>actividades auxiliares actividades servicios f...</td>\n",
       "      <td>NaN</td>\n",
       "      <td>[planilla, cesantias]</td>\n",
       "      <td>[planill, cesanti]</td>\n",
       "      <td>planill cesanti</td>\n",
       "      <td>0['planill', 'cesanti']</td>\n",
       "      <td>pago de deudas</td>\n",
       "      <td>['planill', 'cesanti']</td>\n",
       "    </tr>\n",
       "    <tr>\n",
       "      <th>1</th>\n",
       "      <td>314524981</td>\n",
       "      <td>4569</td>\n",
       "      <td>20180213</td>\n",
       "      <td>194533</td>\n",
       "      <td>2451650.30</td>\n",
       "      <td>planilla cesantias</td>\n",
       "      <td>servicios financieros</td>\n",
       "      <td>servicios financieros</td>\n",
       "      <td>actividades auxiliares actividades servicios f...</td>\n",
       "      <td>NaN</td>\n",
       "      <td>[planilla, cesantias]</td>\n",
       "      <td>[planill, cesanti]</td>\n",
       "      <td>planill cesanti</td>\n",
       "      <td>0['planill', 'cesanti']</td>\n",
       "      <td>pago de deudas</td>\n",
       "      <td>['planill', 'cesanti']</td>\n",
       "    </tr>\n",
       "    <tr>\n",
       "      <th>2</th>\n",
       "      <td>314282053</td>\n",
       "      <td>7979</td>\n",
       "      <td>20180213</td>\n",
       "      <td>90750</td>\n",
       "      <td>985222.15</td>\n",
       "      <td>planilla cesantias</td>\n",
       "      <td>servicios financieros</td>\n",
       "      <td>servicios financieros</td>\n",
       "      <td>actividades auxiliares actividades servicios f...</td>\n",
       "      <td>NaN</td>\n",
       "      <td>[planilla, cesantias]</td>\n",
       "      <td>[planill, cesanti]</td>\n",
       "      <td>planill cesanti</td>\n",
       "      <td>0['planill', 'cesanti']</td>\n",
       "      <td>pago de deudas</td>\n",
       "      <td>['planill', 'cesanti']</td>\n",
       "    </tr>\n",
       "    <tr>\n",
       "      <th>3</th>\n",
       "      <td>313980468</td>\n",
       "      <td>8516</td>\n",
       "      <td>20180212</td>\n",
       "      <td>93503</td>\n",
       "      <td>2119422.06</td>\n",
       "      <td>planilla cesantias</td>\n",
       "      <td>servicios financieros</td>\n",
       "      <td>servicios financieros</td>\n",
       "      <td>actividades auxiliares actividades servicios f...</td>\n",
       "      <td>NaN</td>\n",
       "      <td>[planilla, cesantias]</td>\n",
       "      <td>[planill, cesanti]</td>\n",
       "      <td>planill cesanti</td>\n",
       "      <td>0['planill', 'cesanti']</td>\n",
       "      <td>pago de deudas</td>\n",
       "      <td>['planill', 'cesanti']</td>\n",
       "    </tr>\n",
       "    <tr>\n",
       "      <th>4</th>\n",
       "      <td>313525497</td>\n",
       "      <td>9350</td>\n",
       "      <td>20180209</td>\n",
       "      <td>100659</td>\n",
       "      <td>623897.82</td>\n",
       "      <td>planilla cesantias</td>\n",
       "      <td>servicios financieros</td>\n",
       "      <td>servicios financieros</td>\n",
       "      <td>actividades auxiliares actividades servicios f...</td>\n",
       "      <td>NaN</td>\n",
       "      <td>[planilla, cesantias]</td>\n",
       "      <td>[planill, cesanti]</td>\n",
       "      <td>planill cesanti</td>\n",
       "      <td>0['planill', 'cesanti']</td>\n",
       "      <td>pago de deudas</td>\n",
       "      <td>['planill', 'cesanti']</td>\n",
       "    </tr>\n",
       "  </tbody>\n",
       "</table>\n",
       "</div>"
      ],
      "text/plain": [
       "   id_trn_ach  id_cliente     fecha    hora   valor_trx                ref1  \\\n",
       "0   241307506          19  20170210  142809   701067.98  planilla cesantias   \n",
       "1   314524981        4569  20180213  194533  2451650.30  planilla cesantias   \n",
       "2   314282053        7979  20180213   90750   985222.15  planilla cesantias   \n",
       "3   313980468        8516  20180212   93503  2119422.06  planilla cesantias   \n",
       "4   313525497        9350  20180209  100659   623897.82  planilla cesantias   \n",
       "\n",
       "                  sector              subsector  \\\n",
       "0  servicios financieros  servicios financieros   \n",
       "1  servicios financieros  servicios financieros   \n",
       "2  servicios financieros  servicios financieros   \n",
       "3  servicios financieros  servicios financieros   \n",
       "4  servicios financieros  servicios financieros   \n",
       "\n",
       "                                         descripcion categoria_pfm  \\\n",
       "0  actividades auxiliares actividades servicios f...           NaN   \n",
       "1  actividades auxiliares actividades servicios f...           NaN   \n",
       "2  actividades auxiliares actividades servicios f...           NaN   \n",
       "3  actividades auxiliares actividades servicios f...           NaN   \n",
       "4  actividades auxiliares actividades servicios f...           NaN   \n",
       "\n",
       "                    stem               stem2            stem3  \\\n",
       "0  [planilla, cesantias]  [planill, cesanti]  planill cesanti   \n",
       "1  [planilla, cesantias]  [planill, cesanti]  planill cesanti   \n",
       "2  [planilla, cesantias]  [planill, cesanti]  planill cesanti   \n",
       "3  [planilla, cesantias]  [planill, cesanti]  planill cesanti   \n",
       "4  [planilla, cesantias]  [planill, cesanti]  planill cesanti   \n",
       "\n",
       "             cluster_frase         cluster                   frase  \n",
       "0  0['planill', 'cesanti']  pago de deudas  ['planill', 'cesanti']  \n",
       "1  0['planill', 'cesanti']  pago de deudas  ['planill', 'cesanti']  \n",
       "2  0['planill', 'cesanti']  pago de deudas  ['planill', 'cesanti']  \n",
       "3  0['planill', 'cesanti']  pago de deudas  ['planill', 'cesanti']  \n",
       "4  0['planill', 'cesanti']  pago de deudas  ['planill', 'cesanti']  "
      ]
     },
     "execution_count": 50,
     "metadata": {},
     "output_type": "execute_result"
    }
   ],
   "source": [
    "muestra_cluster_final['cluster'] = muestra_cluster_final['cluster'].str.replace('0','pago de deudas').str.replace('1','tecnologia y comunicaciones').str.replace('2','otros')\n",
    "muestra_cluster_final.head()"
   ]
  },
  {
   "cell_type": "code",
   "execution_count": 51,
   "metadata": {},
   "outputs": [],
   "source": [
    "muestra_cluster_final = muestra_cluster_final.drop('stem', 1)\n",
    "muestra_cluster_final = muestra_cluster_final.drop('stem2', 1)\n",
    "muestra_cluster_final = muestra_cluster_final.drop('stem3', 1)\n",
    "muestra_cluster_final = muestra_cluster_final.drop('cluster_frase', 1)\n",
    "muestra_cluster_final = muestra_cluster_final.drop('frase', 1)\n",
    "muestra_cluster_final = muestra_cluster_final.drop('categoria_pfm', 1)"
   ]
  },
  {
   "cell_type": "code",
   "execution_count": 52,
   "metadata": {},
   "outputs": [
    {
     "data": {
      "text/html": [
       "<div>\n",
       "<style scoped>\n",
       "    .dataframe tbody tr th:only-of-type {\n",
       "        vertical-align: middle;\n",
       "    }\n",
       "\n",
       "    .dataframe tbody tr th {\n",
       "        vertical-align: top;\n",
       "    }\n",
       "\n",
       "    .dataframe thead th {\n",
       "        text-align: right;\n",
       "    }\n",
       "</style>\n",
       "<table border=\"1\" class=\"dataframe\">\n",
       "  <thead>\n",
       "    <tr style=\"text-align: right;\">\n",
       "      <th></th>\n",
       "      <th>id_trn_ach</th>\n",
       "      <th>id_cliente</th>\n",
       "      <th>fecha</th>\n",
       "      <th>hora</th>\n",
       "      <th>valor_trx</th>\n",
       "      <th>ref1</th>\n",
       "      <th>sector</th>\n",
       "      <th>subsector</th>\n",
       "      <th>descripcion</th>\n",
       "      <th>categoria_pfm</th>\n",
       "    </tr>\n",
       "  </thead>\n",
       "  <tbody>\n",
       "    <tr>\n",
       "      <th>0</th>\n",
       "      <td>241307506</td>\n",
       "      <td>19</td>\n",
       "      <td>20170210</td>\n",
       "      <td>142809</td>\n",
       "      <td>701067.98</td>\n",
       "      <td>planilla cesantias</td>\n",
       "      <td>servicios financieros</td>\n",
       "      <td>servicios financieros</td>\n",
       "      <td>actividades auxiliares actividades servicios f...</td>\n",
       "      <td>pago de deudas</td>\n",
       "    </tr>\n",
       "    <tr>\n",
       "      <th>1</th>\n",
       "      <td>314524981</td>\n",
       "      <td>4569</td>\n",
       "      <td>20180213</td>\n",
       "      <td>194533</td>\n",
       "      <td>2451650.30</td>\n",
       "      <td>planilla cesantias</td>\n",
       "      <td>servicios financieros</td>\n",
       "      <td>servicios financieros</td>\n",
       "      <td>actividades auxiliares actividades servicios f...</td>\n",
       "      <td>pago de deudas</td>\n",
       "    </tr>\n",
       "    <tr>\n",
       "      <th>2</th>\n",
       "      <td>314282053</td>\n",
       "      <td>7979</td>\n",
       "      <td>20180213</td>\n",
       "      <td>90750</td>\n",
       "      <td>985222.15</td>\n",
       "      <td>planilla cesantias</td>\n",
       "      <td>servicios financieros</td>\n",
       "      <td>servicios financieros</td>\n",
       "      <td>actividades auxiliares actividades servicios f...</td>\n",
       "      <td>pago de deudas</td>\n",
       "    </tr>\n",
       "    <tr>\n",
       "      <th>3</th>\n",
       "      <td>313980468</td>\n",
       "      <td>8516</td>\n",
       "      <td>20180212</td>\n",
       "      <td>93503</td>\n",
       "      <td>2119422.06</td>\n",
       "      <td>planilla cesantias</td>\n",
       "      <td>servicios financieros</td>\n",
       "      <td>servicios financieros</td>\n",
       "      <td>actividades auxiliares actividades servicios f...</td>\n",
       "      <td>pago de deudas</td>\n",
       "    </tr>\n",
       "    <tr>\n",
       "      <th>4</th>\n",
       "      <td>313525497</td>\n",
       "      <td>9350</td>\n",
       "      <td>20180209</td>\n",
       "      <td>100659</td>\n",
       "      <td>623897.82</td>\n",
       "      <td>planilla cesantias</td>\n",
       "      <td>servicios financieros</td>\n",
       "      <td>servicios financieros</td>\n",
       "      <td>actividades auxiliares actividades servicios f...</td>\n",
       "      <td>pago de deudas</td>\n",
       "    </tr>\n",
       "  </tbody>\n",
       "</table>\n",
       "</div>"
      ],
      "text/plain": [
       "   id_trn_ach  id_cliente     fecha    hora   valor_trx                ref1  \\\n",
       "0   241307506          19  20170210  142809   701067.98  planilla cesantias   \n",
       "1   314524981        4569  20180213  194533  2451650.30  planilla cesantias   \n",
       "2   314282053        7979  20180213   90750   985222.15  planilla cesantias   \n",
       "3   313980468        8516  20180212   93503  2119422.06  planilla cesantias   \n",
       "4   313525497        9350  20180209  100659   623897.82  planilla cesantias   \n",
       "\n",
       "                  sector              subsector  \\\n",
       "0  servicios financieros  servicios financieros   \n",
       "1  servicios financieros  servicios financieros   \n",
       "2  servicios financieros  servicios financieros   \n",
       "3  servicios financieros  servicios financieros   \n",
       "4  servicios financieros  servicios financieros   \n",
       "\n",
       "                                         descripcion   categoria_pfm  \n",
       "0  actividades auxiliares actividades servicios f...  pago de deudas  \n",
       "1  actividades auxiliares actividades servicios f...  pago de deudas  \n",
       "2  actividades auxiliares actividades servicios f...  pago de deudas  \n",
       "3  actividades auxiliares actividades servicios f...  pago de deudas  \n",
       "4  actividades auxiliares actividades servicios f...  pago de deudas  "
      ]
     },
     "execution_count": 52,
     "metadata": {},
     "output_type": "execute_result"
    }
   ],
   "source": [
    "muestra_cluster_final = muestra_cluster_final.rename(columns={'cluster': 'categoria_pfm'})\n",
    "muestra_cluster_final.head()"
   ]
  },
  {
   "cell_type": "code",
   "execution_count": 53,
   "metadata": {},
   "outputs": [],
   "source": [
    "muestra_clasificador_final = pd.concat([muestra_cluster_final, muestra_clasificador])"
   ]
  },
  {
   "cell_type": "code",
   "execution_count": 54,
   "metadata": {},
   "outputs": [
    {
     "data": {
      "text/plain": [
       "(2969291, 10)"
      ]
     },
     "execution_count": 54,
     "metadata": {},
     "output_type": "execute_result"
    }
   ],
   "source": [
    "#muestra_clasificador_final.head(100)\n",
    "muestra_clasificador_final.shape"
   ]
  },
  {
   "cell_type": "markdown",
   "metadata": {},
   "source": [
    "Exportar archivo completo de clasificacion uniendo las clasificaciones generadas por la etiqueta y los datos clusterizados"
   ]
  },
  {
   "cell_type": "code",
   "execution_count": 51,
   "metadata": {},
   "outputs": [],
   "source": [
    "muestra_clasificador_final.to_csv('muestra_clasificador.csv', sep='|', index = None, encoding='utf-8')"
   ]
  }
 ],
 "metadata": {
  "kernelspec": {
   "display_name": "Python 3",
   "language": "python",
   "name": "python3"
  },
  "language_info": {
   "codemirror_mode": {
    "name": "ipython",
    "version": 3
   },
   "file_extension": ".py",
   "mimetype": "text/x-python",
   "name": "python",
   "nbconvert_exporter": "python",
   "pygments_lexer": "ipython3",
   "version": "3.7.0"
  }
 },
 "nbformat": 4,
 "nbformat_minor": 2
}
