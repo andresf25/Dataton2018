{
 "cells": [
  {
   "cell_type": "code",
   "execution_count": 1,
   "metadata": {},
   "outputs": [],
   "source": [
    "import math\n",
    "import pandas as pd\n",
    "import numpy as np\n",
    "import matplotlib.pyplot as plt\n",
    "from scipy.stats import chi2_contingency\n",
    "from collections import Counter\n",
    "from sklearn.model_selection import train_test_split\n",
    "from sklearn.feature_selection import chi2"
   ]
  },
  {
   "cell_type": "code",
   "execution_count": 2,
   "metadata": {},
   "outputs": [],
   "source": [
    "#personas.seg_str.unique()\n",
    "#personas.seg_str.notnull().value_counts(True)\n",
    "#personas.seg_str.describe()\n",
    "#dfilter = personas[personas['ocupacion'].isnull()]\n",
    "#dfilter.tipo_vivienda.unique()\n",
    "#dfilter.ocupacion.unique()"
   ]
  },
  {
   "cell_type": "code",
   "execution_count": 3,
   "metadata": {},
   "outputs": [],
   "source": [
    "nombres_columnas_per = [\"id_cliente\",\"seg_str\",\"ocupacion\",\"tipo_vivienda\",\"nivel_academico\",\n",
    "                        \"estado_civil\",\"genero\",\"edad\",\"ingreso_rango\"]\n",
    "\n",
    "personas = pd.read_csv('dt_info_pagadores_muestra.csv', \n",
    "                      sep = ',', header = None, low_memory = False, names=nombres_columnas_per)"
   ]
  },
  {
   "cell_type": "markdown",
   "metadata": {},
   "source": [
    "## Entendimiento de los Datos\n",
    "\n",
    "El Dataset contienen información de algunas características socio-económicas de los clientes que realizan transacciones a través del servicio de PSE.\n",
    "\n",
    "Número de atributos: 8 en total\n",
    "* 7 Son nominales\n",
    "* 1 Entero\n"
   ]
  },
  {
   "cell_type": "code",
   "execution_count": 4,
   "metadata": {},
   "outputs": [
    {
     "name": "stdout",
     "output_type": "stream",
     "text": [
      "<class 'pandas.core.frame.DataFrame'>\n",
      "RangeIndex: 338606 entries, 0 to 338605\n",
      "Data columns (total 9 columns):\n",
      "id_cliente         338606 non-null int64\n",
      "seg_str            338606 non-null object\n",
      "ocupacion          331773 non-null object\n",
      "tipo_vivienda      166396 non-null object\n",
      "nivel_academico    294313 non-null object\n",
      "estado_civil       332006 non-null object\n",
      "genero             332897 non-null object\n",
      "edad               338606 non-null object\n",
      "ingreso_rango      338606 non-null object\n",
      "dtypes: int64(1), object(8)\n",
      "memory usage: 23.3+ MB\n"
     ]
    }
   ],
   "source": [
    "personas.info()"
   ]
  },
  {
   "cell_type": "code",
   "execution_count": 5,
   "metadata": {},
   "outputs": [
    {
     "data": {
      "text/html": [
       "<div>\n",
       "<style scoped>\n",
       "    .dataframe tbody tr th:only-of-type {\n",
       "        vertical-align: middle;\n",
       "    }\n",
       "\n",
       "    .dataframe tbody tr th {\n",
       "        vertical-align: top;\n",
       "    }\n",
       "\n",
       "    .dataframe thead th {\n",
       "        text-align: right;\n",
       "    }\n",
       "</style>\n",
       "<table border=\"1\" class=\"dataframe\">\n",
       "  <thead>\n",
       "    <tr style=\"text-align: right;\">\n",
       "      <th></th>\n",
       "      <th>id_cliente</th>\n",
       "      <th>seg_str</th>\n",
       "      <th>ocupacion</th>\n",
       "      <th>tipo_vivienda</th>\n",
       "      <th>nivel_academico</th>\n",
       "      <th>estado_civil</th>\n",
       "      <th>genero</th>\n",
       "      <th>edad</th>\n",
       "      <th>ingreso_rango</th>\n",
       "    </tr>\n",
       "  </thead>\n",
       "  <tbody>\n",
       "    <tr>\n",
       "      <th>0</th>\n",
       "      <td>18</td>\n",
       "      <td>PERSONAL PLUS</td>\n",
       "      <td>5</td>\n",
       "      <td>O</td>\n",
       "      <td>U</td>\n",
       "      <td>M</td>\n",
       "      <td>M</td>\n",
       "      <td>92</td>\n",
       "      <td>e. (4.4  5.5MM]</td>\n",
       "    </tr>\n",
       "    <tr>\n",
       "      <th>1</th>\n",
       "      <td>32</td>\n",
       "      <td>PERSONAL PLUS</td>\n",
       "      <td>E</td>\n",
       "      <td>F</td>\n",
       "      <td>T</td>\n",
       "      <td>M</td>\n",
       "      <td>M</td>\n",
       "      <td>80</td>\n",
       "      <td>i. (8.7  Inf)</td>\n",
       "    </tr>\n",
       "    <tr>\n",
       "      <th>2</th>\n",
       "      <td>41</td>\n",
       "      <td>EMPRENDEDOR</td>\n",
       "      <td>3</td>\n",
       "      <td>O</td>\n",
       "      <td>I</td>\n",
       "      <td>W</td>\n",
       "      <td>M</td>\n",
       "      <td>90</td>\n",
       "      <td>b. (1.1  2.2MM]</td>\n",
       "    </tr>\n",
       "    <tr>\n",
       "      <th>3</th>\n",
       "      <td>47</td>\n",
       "      <td>EMPRENDEDOR</td>\n",
       "      <td>7</td>\n",
       "      <td>NaN</td>\n",
       "      <td>I</td>\n",
       "      <td>I</td>\n",
       "      <td>M</td>\n",
       "      <td>86</td>\n",
       "      <td>c. (2.2  3.3MM]</td>\n",
       "    </tr>\n",
       "    <tr>\n",
       "      <th>4</th>\n",
       "      <td>71</td>\n",
       "      <td>PERSONAL</td>\n",
       "      <td>5</td>\n",
       "      <td>O</td>\n",
       "      <td>S</td>\n",
       "      <td>M</td>\n",
       "      <td>M</td>\n",
       "      <td>79</td>\n",
       "      <td>e. (4.4  5.5MM]</td>\n",
       "    </tr>\n",
       "  </tbody>\n",
       "</table>\n",
       "</div>"
      ],
      "text/plain": [
       "   id_cliente        seg_str ocupacion tipo_vivienda nivel_academico  \\\n",
       "0          18  PERSONAL PLUS         5             O               U   \n",
       "1          32  PERSONAL PLUS         E             F               T   \n",
       "2          41    EMPRENDEDOR         3             O               I   \n",
       "3          47    EMPRENDEDOR         7           NaN               I   \n",
       "4          71       PERSONAL         5             O               S   \n",
       "\n",
       "  estado_civil genero edad    ingreso_rango  \n",
       "0            M      M   92  e. (4.4  5.5MM]  \n",
       "1            M      M   80    i. (8.7  Inf)  \n",
       "2            W      M   90  b. (1.1  2.2MM]  \n",
       "3            I      M   86  c. (2.2  3.3MM]  \n",
       "4            M      M   79  e. (4.4  5.5MM]  "
      ]
     },
     "execution_count": 5,
     "metadata": {},
     "output_type": "execute_result"
    }
   ],
   "source": [
    "personas.head()"
   ]
  },
  {
   "cell_type": "code",
   "execution_count": 6,
   "metadata": {},
   "outputs": [
    {
     "data": {
      "text/plain": [
       "id_cliente              0\n",
       "seg_str                 0\n",
       "ocupacion            6833\n",
       "tipo_vivienda      172210\n",
       "nivel_academico     44293\n",
       "estado_civil         6600\n",
       "genero               5709\n",
       "edad                    0\n",
       "ingreso_rango           0\n",
       "dtype: int64"
      ]
     },
     "execution_count": 6,
     "metadata": {},
     "output_type": "execute_result"
    }
   ],
   "source": [
    "personas.isnull().sum()"
   ]
  },
  {
   "cell_type": "markdown",
   "metadata": {},
   "source": [
    "Las variables ocupación, tipo de vivienda, nivel académico , estado civil y género tienen valores pérdidos. En particular, \"Tipo de vivienda\" tiene el 47% de los registros vacios, por lo que se decide eliminar esta variable del análisis.\n",
    "\n",
    "Algunas transformaciones adicionales sobre los datos son requeridas, ya que por ejemplo, se observan atributos que tienen códigos que no corresponden a los del negocio por lo que se deben tratar estas variables como valores nulos. "
   ]
  },
  {
   "cell_type": "code",
   "execution_count": 7,
   "metadata": {},
   "outputs": [],
   "source": [
    "personas['ocupacion'] = personas['ocupacion'].replace('0', np.nan)\n",
    "personas['tipo_vivienda'] = personas['tipo_vivienda'].replace(['1','2','3','4'], np.nan)\n",
    "personas['estado_civil'] = personas['estado_civil'].replace(['F'], np.nan)\n",
    "personas['edad'] = personas['edad'].replace(['N'], np.nan)\n",
    "personas['ingreso_rango'] = personas['ingreso_rango'].replace(['No disponible'], np.nan)\n",
    "personas['ingreso_rango'] = personas['ingreso_rango'].str.replace('a. ','').str.replace('b. ','').str.replace('c. ','').str.replace('d. ','').str.replace('e. ','').str.replace('f. ','').str.replace('g. ','').str.replace('h. ','').str.replace('i. ','')\n"
   ]
  },
  {
   "cell_type": "code",
   "execution_count": 8,
   "metadata": {},
   "outputs": [],
   "source": [
    "personas = personas.drop(personas.columns[[3]], axis=1) #Se elimina Vivienda tiene el 47% de los datos nulos"
   ]
  },
  {
   "cell_type": "code",
   "execution_count": 9,
   "metadata": {},
   "outputs": [],
   "source": [
    "personas['edad'] = personas['edad'].astype('float') #Se cambia el tipo de la variable edad"
   ]
  },
  {
   "cell_type": "code",
   "execution_count": 10,
   "metadata": {},
   "outputs": [
    {
     "data": {
      "text/plain": [
       "id_cliente           int64\n",
       "seg_str             object\n",
       "ocupacion           object\n",
       "nivel_academico     object\n",
       "estado_civil        object\n",
       "genero              object\n",
       "edad               float64\n",
       "ingreso_rango       object\n",
       "dtype: object"
      ]
     },
     "execution_count": 10,
     "metadata": {},
     "output_type": "execute_result"
    }
   ],
   "source": [
    "personas.dtypes"
   ]
  },
  {
   "cell_type": "markdown",
   "metadata": {},
   "source": [
    "## Anáisis Exploratorio\n"
   ]
  },
  {
   "cell_type": "markdown",
   "metadata": {},
   "source": [
    "### Variables Categóricas\n",
    "\n",
    "La mayoría de los clientes pertenecen al segmento personal (68%), son empleados (+60%) y son universitarios (40%) y se encuentran solteros (+50%). Se evidencia que hay más mujeres que realizan transacciones por medio de PSE que hombres, aunque la diferencia no es significativa."
   ]
  },
  {
   "cell_type": "code",
   "execution_count": 11,
   "metadata": {},
   "outputs": [
    {
     "data": {
      "image/png": "[encoded data removed]",
      "text/plain": [
       "<Figure size 432x432 with 1 Axes>"
      ]
     },
     "metadata": {},
     "output_type": "display_data"
    }
   ],
   "source": [
    "# Gráfico de tarta de Segmento de Clientes\n",
    "plot = personas['seg_str'].value_counts().plot(kind='pie', autopct='%.2f', \n",
    "                                            figsize=(6, 6),\n",
    "                                            title='Clientes por Segmento')"
   ]
  },
  {
   "cell_type": "code",
   "execution_count": 12,
   "metadata": {},
   "outputs": [
    {
     "data": {
      "image/png": "[encoded data removed]",
      "text/plain": [
       "<Figure size 432x288 with 1 Axes>"
      ]
     },
     "metadata": {
      "needs_background": "light"
     },
     "output_type": "display_data"
    }
   ],
   "source": [
    "# tabla de frecuencia relativa de ocupación\n",
    "plot = (100 * personas['ocupacion'].value_counts() / len(personas['ocupacion'])).plot(\n",
    "kind='bar', title='Clientes por Ocupación %')"
   ]
  },
  {
   "cell_type": "code",
   "execution_count": 13,
   "metadata": {},
   "outputs": [
    {
     "data": {
      "image/png": "[encoded data removed]",
      "text/plain": [
       "<Figure size 432x288 with 1 Axes>"
      ]
     },
     "metadata": {
      "needs_background": "light"
     },
     "output_type": "display_data"
    }
   ],
   "source": [
    "# tabla de frecuencia relativa de ocupación\n",
    "plot = (100 * personas['nivel_academico'].value_counts() / len(personas['nivel_academico'])).plot(\n",
    "kind='bar', title='Nivel Académico %')"
   ]
  },
  {
   "cell_type": "code",
   "execution_count": 14,
   "metadata": {},
   "outputs": [
    {
     "data": {
      "image/png": "[encoded data removed]",
      "text/plain": [
       "<Figure size 432x288 with 1 Axes>"
      ]
     },
     "metadata": {
      "needs_background": "light"
     },
     "output_type": "display_data"
    }
   ],
   "source": [
    "# tabla de frecuencia relativa de ocupación\n",
    "plot = (100 * personas['estado_civil'].value_counts() / len(personas['estado_civil'])).plot(\n",
    "kind='bar', title='Estado Civil %')"
   ]
  },
  {
   "cell_type": "code",
   "execution_count": 15,
   "metadata": {},
   "outputs": [
    {
     "data": {
      "image/png": "[encoded data removed]",
      "text/plain": [
       "<Figure size 432x432 with 1 Axes>"
      ]
     },
     "metadata": {},
     "output_type": "display_data"
    }
   ],
   "source": [
    "# Gráfico de tarta de Segmento de Clientes\n",
    "plot = personas['genero'].value_counts().plot(kind='pie', autopct='%.2f', \n",
    "                                            figsize=(6, 6),\n",
    "                                            title='Género %')"
   ]
  },
  {
   "cell_type": "code",
   "execution_count": 16,
   "metadata": {},
   "outputs": [
    {
     "data": {
      "image/png": "[encoded data removed]",
      "text/plain": [
       "<Figure size 432x288 with 1 Axes>"
      ]
     },
     "metadata": {
      "needs_background": "light"
     },
     "output_type": "display_data"
    }
   ],
   "source": [
    "# tabla de frecuencia relativa de ocupación\n",
    "plot = (100 * personas['ingreso_rango'].value_counts() / len(personas['ingreso_rango'])).plot(\n",
    "kind='bar', title='Ingreso Rango %')"
   ]
  },
  {
   "cell_type": "markdown",
   "metadata": {},
   "source": [
    "### Numéricas\n",
    "La variable edad incluye valores muy cercanos a cero (incluso negativos) se decide entonces descartar edad inferiores a 12 años y superiores a 100."
   ]
  },
  {
   "cell_type": "code",
   "execution_count": 17,
   "metadata": {},
   "outputs": [
    {
     "data": {
      "text/plain": [
       "Text(0.5,1,'Histograma de Frecuencia Edad')"
      ]
     },
     "execution_count": 17,
     "metadata": {},
     "output_type": "execute_result"
    },
    {
     "data": {
      "image/png": "[encoded data removed]",
      "text/plain": [
       "<Figure size 432x288 with 1 Axes>"
      ]
     },
     "metadata": {
      "needs_background": "light"
     },
     "output_type": "display_data"
    }
   ],
   "source": [
    "dfilter = personas[(personas['edad'] >= 12) & (personas['edad'] <= 100)]\n",
    "plt.hist(dfilter['edad'], color = \"lightblue\")\n",
    "plt.title('Histograma de Frecuencia Edad')"
   ]
  },
  {
   "cell_type": "markdown",
   "metadata": {},
   "source": [
    "## Análisis Multivariado"
   ]
  },
  {
   "cell_type": "code",
   "execution_count": 18,
   "metadata": {},
   "outputs": [
    {
     "data": {
      "image/png": "[encoded data removed]",
      "text/plain": [
       "<Figure size 432x288 with 1 Axes>"
      ]
     },
     "metadata": {
      "needs_background": "light"
     },
     "output_type": "display_data"
    }
   ],
   "source": [
    "#Gráfico de barras de sobreviviviente segun clase\n",
    "plot = pd.crosstab(index=personas['ingreso_rango'],\n",
    "            columns=personas['seg_str']).apply(lambda r: r/r.sum() *100,\n",
    "                                              axis=1).plot(kind='bar', stacked=True)"
   ]
  },
  {
   "cell_type": "code",
   "execution_count": 19,
   "metadata": {},
   "outputs": [],
   "source": [
    "confusion_matrix = pd.crosstab(personas['seg_str'], personas['ingreso_rango'])"
   ]
  },
  {
   "cell_type": "code",
   "execution_count": 20,
   "metadata": {},
   "outputs": [
    {
     "name": "stdout",
     "output_type": "stream",
     "text": [
      "0.5435395191290323\n"
     ]
    }
   ],
   "source": [
    "def cramers_stat(confusion_matrix):\n",
    "    chi2 = chi2_contingency(confusion_matrix)[0]\n",
    "    n = confusion_matrix.sum().sum()\n",
    "    return np.sqrt(chi2 / (n*(min(confusion_matrix.shape)-1)))\n",
    "\n",
    "result = cramers_stat(confusion_matrix)\n",
    "print(result)"
   ]
  },
  {
   "cell_type": "markdown",
   "metadata": {},
   "source": [
    "Con la función de Crámer's V se obtiene el grado de asociación entre variables categóricas. De forma similar a la función de correlación, el resultado obtenido se encuentra entre [0,1], donde 0 significa que no hay asociación y 1 implica una asociación completa.\n",
    "\n",
    "Se observa que efectivamente hay una asociación entre las variables: Segmento y el Rango. Sin embargo esta asociación no es muy fuertey no aplica para el caso de emprendedor por lo que para realizar la imputación de los valores pérdidos en los casos en los que sea necesario se dejarán todas lasvariables."
   ]
  },
  {
   "cell_type": "code",
   "execution_count": 21,
   "metadata": {
    "scrolled": true
   },
   "outputs": [
    {
     "data": {
      "image/png": "[encoded data removed]",
      "text/plain": [
       "<Figure size 432x288 with 1 Axes>"
      ]
     },
     "metadata": {
      "needs_background": "light"
     },
     "output_type": "display_data"
    }
   ],
   "source": [
    "#Gráfico de barras de sobreviviviente segun clase\n",
    "plot = pd.crosstab(index=personas['ingreso_rango'],\n",
    "            columns=personas['genero']).apply(lambda r: r/r.sum() *100,\n",
    "                                              axis=1).plot(kind='bar')"
   ]
  },
  {
   "cell_type": "markdown",
   "metadata": {},
   "source": [
    "La tendencia de los ingresos en los hombres es creciente a medida que aumentan los ingresos, mientras que para las mujeres sucede lo contrario. "
   ]
  },
  {
   "cell_type": "markdown",
   "metadata": {},
   "source": [
    "## Imputacion valores nulos - perdidos"
   ]
  },
  {
   "cell_type": "code",
   "execution_count": 22,
   "metadata": {},
   "outputs": [],
   "source": [
    "personas['genero'] = personas['genero'].fillna(personas['genero'].value_counts().index[0])\n",
    "personas['ocupacion'] = personas['ocupacion'].fillna(personas['ocupacion'].value_counts().index[0])\n",
    "personas['nivel_academico'] = personas['nivel_academico'].fillna(personas['nivel_academico'].value_counts().index[0])\n",
    "personas['estado_civil'] = personas['estado_civil'].fillna(personas['estado_civil'].value_counts().index[0])\n",
    "personas['ingreso_rango'] = personas['ingreso_rango'].fillna(personas['ingreso_rango'].value_counts().index[0])\n",
    "personas['edad'] = personas['edad'].fillna(personas['edad'].mean())"
   ]
  },
  {
   "cell_type": "code",
   "execution_count": 23,
   "metadata": {},
   "outputs": [],
   "source": [
    "personas.to_csv('personas.csv', sep=';', encoding='utf-8')"
   ]
  },
  {
   "cell_type": "code",
   "execution_count": 24,
   "metadata": {},
   "outputs": [],
   "source": [
    "#print(personas.ocupacion.unique())\n",
    "#print()\n",
    "#print(personas.genero.unique())\n",
    "#personas['ocupacion'].value_counts()\n",
    "#personas.head()"
   ]
  }
 ],
 "metadata": {
  "kernelspec": {
   "display_name": "Python 3",
   "language": "python",
   "name": "python3"
  },
  "language_info": {
   "codemirror_mode": {
    "name": "ipython",
    "version": 3
   },
   "file_extension": ".py",
   "mimetype": "text/x-python",
   "name": "python",
   "nbconvert_exporter": "python",
   "pygments_lexer": "ipython3",
   "version": "3.5.6"
  }
 },
 "nbformat": 4,
 "nbformat_minor": 2
}
